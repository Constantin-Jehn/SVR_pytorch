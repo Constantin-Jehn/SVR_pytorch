{
 "cells": [
  {
   "cell_type": "code",
   "execution_count": null,
   "id": "891d5b04",
   "metadata": {},
   "outputs": [],
   "source": [
    "import torchio as tio\n",
    "import monai\n",
    "from monai.transforms import (\n",
    "    AddChanneld,\n",
    "    LoadImage,\n",
    "    LoadImaged,\n",
    "    Orientationd,\n",
    "    Rand3DElasticd,\n",
    "    RandAffined,\n",
    "    Spacingd,\n",
    "    ToTensord,\n",
    "    RandAffine\n",
    ")\n",
    "import torchvision as tv\n",
    "import os\n",
    "import numpy as np\n",
    "import custom_models\n",
    "import torch as t\n",
    "from copy import deepcopy\n",
    "import loss_module\n",
    "import time\n",
    "import matplotlib.pyplot as plt\n",
    "from SVR_Preprocessor import Preprocesser\n",
    "from SVR_outlier_removal import outlier_removal"
   ]
  },
  {
   "cell_type": "code",
   "execution_count": null,
   "id": "f8eb77cb",
   "metadata": {},
   "outputs": [],
   "source": [
    "pixdim = (2.0,2.0,2.0)\n",
    "\n",
    "src_folder = \"sample_data\"\n",
    "prep_folder = \"cropped_images\"\n",
    "src_folder = \"sample_data\"\n",
    "result_folder = os.path.join(\"results\",\"two_stacks_first_outlier_removal\")\n",
    "\n",
    "stack_filenames = [\"10_3T_nody_001.nii.gz\",\n",
    "                \n",
    "                \"14_3T_nody_001.nii.gz\",\n",
    "                \n",
    "                \"21_3T_nody_001.nii.gz\",\n",
    "                \n",
    "                \"23_3T_nody_001.nii.gz\"]\n",
    "device = \"cpu\"\n",
    "mask_filename = \"mask_10_3T_brain_smooth.nii.gz\"\n",
    "mode =  \"bilinear\"\n",
    "\n",
    "svr_preprocessor = Preprocesser(src_folder, prep_folder, result_folder, stack_filenames, mask_filename, device, mode)\n",
    "        \n",
    "fixed_images, stacks = svr_preprocessor.preprocess_stacks_and_common_vol(pixdim)\n",
    "\n",
    "tio_image = svr_preprocessor.monai_to_torchio(stacks[0])"
   ]
  },
  {
   "cell_type": "code",
   "execution_count": null,
   "id": "83b8afc9",
   "metadata": {},
   "outputs": [],
   "source": [
    "tio_image.save('monai_to_tio.nii.gz')"
   ]
  },
  {
   "cell_type": "code",
   "execution_count": null,
   "id": "88849455",
   "metadata": {},
   "outputs": [],
   "source": [
    "transform = tio.Resample((3,3,3))\n",
    "transformed_tio = transform(tio_image)"
   ]
  },
  {
   "cell_type": "code",
   "execution_count": null,
   "id": "c9d8fe43",
   "metadata": {},
   "outputs": [],
   "source": [
    "stack = stacks[0]\n",
    "stack_updated = svr_preprocessor.update_monai_from_tio(transformed_tio,stack)"
   ]
  },
  {
   "cell_type": "code",
   "execution_count": null,
   "id": "e43a7306",
   "metadata": {},
   "outputs": [],
   "source": [
    "nifti_saver = monai.data.NiftiSaver(output_dir=\"torchio_to_monai\", output_postfix=f\"{0:02}\",\n",
    "                                            resample=False, mode=\"bilinear\", padding_mode=\"zeros\",\n",
    "                                            separate_folder=False)\n",
    "nifti_saver.save(stack_updated[\"image\"],stack_updated[\"image_meta_dict\"])"
   ]
  },
  {
   "cell_type": "code",
   "execution_count": null,
   "id": "a53c9b0b",
   "metadata": {},
   "outputs": [],
   "source": [
    "transformed_tio.save(\"torchio_to_monai/original.nii.gz\")"
   ]
  },
  {
   "cell_type": "code",
   "execution_count": null,
   "id": "693a6b2a",
   "metadata": {},
   "outputs": [],
   "source": [
    "affine_grid = t.nn.functional.affine_grid(t.rand(1,3,4),(1,1,10,10,5))"
   ]
  },
  {
   "cell_type": "code",
   "execution_count": null,
   "id": "2627c57f",
   "metadata": {},
   "outputs": [],
   "source": [
    "stack = stacks[0]"
   ]
  },
  {
   "cell_type": "code",
   "execution_count": null,
   "id": "e79a9800",
   "metadata": {},
   "outputs": [],
   "source": [
    "tio_image = tio.Image(tensor=stack[\"image\"], affine= stack[\"image_meta_dict\"][\"affine\"])"
   ]
  },
  {
   "cell_type": "code",
   "execution_count": null,
   "id": "79fa64ab",
   "metadata": {},
   "outputs": [],
   "source": [
    "tio_image.tensor.shape"
   ]
  },
  {
   "cell_type": "code",
   "execution_count": null,
   "id": "b17e6dfa",
   "metadata": {},
   "outputs": [],
   "source": [
    "tio_image.affine"
   ]
  },
  {
   "cell_type": "code",
   "execution_count": null,
   "id": "64cf497b",
   "metadata": {},
   "outputs": [],
   "source": [
    "stack[\"image_meta_dict\"][\"spatial_shape\"]"
   ]
  },
  {
   "cell_type": "code",
   "execution_count": null,
   "id": "02651033",
   "metadata": {},
   "outputs": [],
   "source": [
    "np.array(list(tio_image.tensor.shape)[1:])"
   ]
  },
  {
   "cell_type": "code",
   "execution_count": null,
   "id": "2387824d",
   "metadata": {},
   "outputs": [],
   "source": [
    "tio_image_2 = svr_preprocessor.monai_to_torchio(stack)"
   ]
  },
  {
   "cell_type": "code",
   "execution_count": null,
   "id": "860fca3a",
   "metadata": {},
   "outputs": [],
   "source": []
  }
 ],
 "metadata": {
  "interpreter": {
   "hash": "df57fb2011fe0677c52ead08c38db10ec9ae0632224e1588dff526d5ca373fd3"
  },
  "kernelspec": {
   "display_name": "Python 3.8.8 64-bit ('base': conda)",
   "language": "python",
   "name": "python3"
  },
  "language_info": {
   "codemirror_mode": {
    "name": "ipython",
    "version": 3
   },
   "file_extension": ".py",
   "mimetype": "text/x-python",
   "name": "python",
   "nbconvert_exporter": "python",
   "pygments_lexer": "ipython3",
   "version": "3.9.7"
  }
 },
 "nbformat": 4,
 "nbformat_minor": 5
}
