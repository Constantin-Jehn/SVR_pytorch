{
 "cells": [
  {
   "cell_type": "code",
   "execution_count": null,
   "id": "891d5b04",
   "metadata": {},
   "outputs": [],
   "source": [
    "import torchio as tio\n",
    "import monai\n",
    "from monai.transforms import (\n",
    "    AddChanneld,\n",
    "    LoadImage,\n",
    "    LoadImaged,\n",
    "    Orientationd,\n",
    "    Rand3DElasticd,\n",
    "    RandAffined,\n",
    "    Spacingd,\n",
    "    ToTensord,\n",
    "    RandAffine\n",
    ")\n",
    "import torchvision as tv\n",
    "import os\n",
    "import numpy as np\n",
    "import custom_models\n",
    "import torch as t\n",
    "from copy import deepcopy\n",
    "import loss_module\n",
    "import time\n",
    "import matplotlib.pyplot as plt\n",
    "from SVR_Preprocessor import Preprocesser\n",
    "import SimpleITK as sitk"
   ]
  },
  {
   "cell_type": "code",
   "execution_count": null,
   "id": "f8eb77cb",
   "metadata": {},
   "outputs": [],
   "source": [
    "pixdim = (2.0,2.0,2.0)\n",
    "\n",
    "src_folder = \"sample_data\"\n",
    "prep_folder = \"cropped_images\"\n",
    "src_folder = \"sample_data\"\n",
    "result_folder = os.path.join(\"results\",\"two_stacks_first_outlier_removal\")\n",
    "\n",
    "stack_filenames = [\"10_3T_nody_001.nii.gz\",\n",
    "                \n",
    "                \"14_3T_nody_001.nii.gz\",\n",
    "                \n",
    "                \"21_3T_nody_001.nii.gz\",\n",
    "                \n",
    "                \"23_3T_nody_001.nii.gz\"]\n",
    "device = \"cpu\"\n",
    "mask_filename = \"mask_10_3T_brain_smooth.nii.gz\"\n",
    "mode =  \"bilinear\"\n",
    "tio_mode = \"welch\"\n",
    "\n",
    "svr_preprocessor = Preprocesser(src_folder, prep_folder, result_folder, stack_filenames, mask_filename, device, mode, tio_mode=tio_mode)\n",
    "        \n",
    "#fixed_images, stacks = svr_preprocessor.preprocess_stacks_and_common_vol(pixdim)\n",
    "\n",
    "#tio_image = svr_preprocessor.monai_to_torchio(stacks[0])"
   ]
  },
  {
   "cell_type": "code",
   "execution_count": null,
   "id": "83b8afc9",
   "metadata": {},
   "outputs": [],
   "source": [
    "stacks = svr_preprocessor.load_stacks()\n",
    "tio_image = svr_preprocessor.monai_to_torchio(stacks[0])"
   ]
  },
  {
   "cell_type": "code",
   "execution_count": null,
   "id": "a6dcf7da",
   "metadata": {},
   "outputs": [],
   "source": [
    "sitk_img = tio_image.as_sitk()"
   ]
  },
  {
   "cell_type": "code",
   "execution_count": null,
   "id": "fef7d2b0",
   "metadata": {},
   "outputs": [],
   "source": [
    "rotation_center = (100, 100, 100)\n",
    "axis = (0,0,1)\n",
    "angle = np.pi/2.0\n",
    "translation = (1,2,3)\n",
    "scale_factor = 2.0\n",
    "similarity = sitk.Similarity3DTransform(scale_factor, axis, angle, translation, rotation_center)\n",
    "\n",
    "affine = sitk.AffineTransform(3)\n",
    "affine.SetMatrix(similarity.GetMatrix())\n",
    "affine.SetTranslation(similarity.GetTranslation())\n",
    "affine.SetCenter(similarity.GetCenter())\n",
    "\n",
    "# Apply the transformations to the same set of random points and compare the results."
   ]
  },
  {
   "cell_type": "code",
   "execution_count": null,
   "id": "300d81f3",
   "metadata": {},
   "outputs": [],
   "source": [
    "def sitk_affine_transform(tio_image:tio.Image, affine_matr:t.tensor)->t.tensor:\n",
    "    sitk_image = tio_image.as_sitk()\n",
    "\n",
    "    rotation = affine_matr[:3,:3].ravel().tolist()\n",
    "    translation = affine_matr[:3,3].tolist()\n",
    "    affine = sitk.AffineTransform(rotation,translation)\n",
    "\n",
    "    reference_image = sitk_image\n",
    "    interpolator = sitk.sitkWelchWindowedSinc\n",
    "    default_value = 0\n",
    "\n",
    "    resampled =  sitk.Resample(sitk_image,reference_image,affine,interpolator,default_value)\n",
    "\n",
    "    tensor = t.permute(t.tensor(sitk.GetArrayFromImage(resampled)),(2,1,0))\n",
    "\n",
    "    tensor = tensor.unsqueeze(0)\n",
    "    return tensor"
   ]
  },
  {
   "cell_type": "code",
   "execution_count": null,
   "id": "594a20f0",
   "metadata": {},
   "outputs": [],
   "source": [
    "affine_matr = t.eye(4)\n",
    "sitk_transformed = sitk_affine_transform(tio_image,affine_matr)"
   ]
  },
  {
   "cell_type": "code",
   "execution_count": null,
   "id": "3126ece4",
   "metadata": {},
   "outputs": [],
   "source": [
    "sitk_transformed.shape"
   ]
  },
  {
   "cell_type": "code",
   "execution_count": null,
   "id": "6c8efc10",
   "metadata": {},
   "outputs": [],
   "source": []
  },
  {
   "cell_type": "code",
   "execution_count": null,
   "id": "f713b399",
   "metadata": {},
   "outputs": [],
   "source": []
  }
 ],
 "metadata": {
  "interpreter": {
   "hash": "df57fb2011fe0677c52ead08c38db10ec9ae0632224e1588dff526d5ca373fd3"
  },
  "kernelspec": {
   "display_name": "Python 3.8.8 64-bit ('base': conda)",
   "language": "python",
   "name": "python3"
  },
  "language_info": {
   "codemirror_mode": {
    "name": "ipython",
    "version": 3
   },
   "file_extension": ".py",
   "mimetype": "text/x-python",
   "name": "python",
   "nbconvert_exporter": "python",
   "pygments_lexer": "ipython3",
   "version": "3.9.7"
  }
 },
 "nbformat": 4,
 "nbformat_minor": 5
}
