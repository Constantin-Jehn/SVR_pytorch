{
 "cells": [
  {
   "cell_type": "code",
   "execution_count": null,
   "metadata": {},
   "outputs": [],
   "source": [
    "import monai\n",
    "from monai.transforms import (\n",
    "    AddChanneld,\n",
    "    LoadImaged,\n",
    "    ToTensord,\n",
    ")\n",
    "import torch as t\n",
    "from copy import deepcopy\n",
    "import torchio as tio\n",
    "import numpy as np"
   ]
  },
  {
   "cell_type": "markdown",
   "metadata": {},
   "source": [
    "Load images and copy for comparison"
   ]
  },
  {
   "cell_type": "code",
   "execution_count": null,
   "metadata": {},
   "outputs": [],
   "source": [
    "path = \"cropped_images/10_3T_nody_001.nii.gz\"\n",
    "add_channel = AddChanneld(keys=[\"image\"])\n",
    "loader = LoadImaged(keys=[\"image\"])\n",
    "to_tensor = ToTensord(keys=[\"image\"])\n",
    "monai_dict = {\"image\": path}\n",
    "monai_image_layer = loader(monai_dict)\n",
    "monai_image_layer = add_channel(monai_image_layer)\n",
    "monai_image_layer = to_tensor(monai_image_layer)\n",
    "monai_image_transform = deepcopy(monai_image_layer)\n",
    "tio_copy = deepcopy(monai_image_layer)"
   ]
  },
  {
   "cell_type": "markdown",
   "metadata": {},
   "source": [
    "Set up example affine"
   ]
  },
  {
   "cell_type": "code",
   "execution_count": null,
   "metadata": {},
   "outputs": [],
   "source": [
    "translations = [0,0,0]\n",
    "rotations = [t.pi/8, 0 ,0]\n",
    "\n",
    "rotation_tensor = monai.transforms.utils.create_rotate(3, rotations,backend='torch')\n",
    "translation_tensor = monai.transforms.utils.create_translate(3, translations,backend='torch')\n",
    "affine =  (t.matmul(translation_tensor,rotation_tensor))"
   ]
  },
  {
   "cell_type": "markdown",
   "metadata": {},
   "source": [
    "Define affine layer and transform"
   ]
  },
  {
   "cell_type": "code",
   "execution_count": null,
   "metadata": {},
   "outputs": [],
   "source": [
    "monai_aff_layer = monai.networks.layers.AffineTransform(mode = \"bilinear\",  normalized = False, align_corners= True, padding_mode = \"border\")\n",
    "\n",
    "s = t.diag(t.as_tensor([2 / (99 - 1.0), 2 / (92 - 1.0), 2 / (69 - 1.0), 1.0]))\n",
    "aff_corrected = affine @ s\n",
    "monai_aff_trans = monai.transforms.Affine(affine=aff_corrected, norm_coords = False, image_only = True)"
   ]
  },
  {
   "cell_type": "markdown",
   "metadata": {},
   "source": [
    "Do transform using affine layer, add another dimension for batch"
   ]
  },
  {
   "cell_type": "code",
   "execution_count": null,
   "metadata": {},
   "outputs": [],
   "source": [
    "input_batched = monai_image_layer[\"image\"].unsqueeze(0)\n",
    "\n",
    "monai_image_layer[\"image\"] = monai_aff_layer(input_batched ,t.tensor(affine).unsqueeze(0))\n",
    "\n",
    "monai_image_layer[\"image\"] = monai_image_layer[\"image\"].squeeze().unsqueeze(0)\n",
    "\n",
    "nifti_saver = monai.data.NiftiSaver(output_dir=\"tests\", output_postfix = \"layer_non_norm\",\n",
    "                                            resample=False, padding_mode=\"zeros\",\n",
    "                                            separate_folder=False)\n",
    "nifti_saver.save(monai_image_layer[\"image\"],monai_image_layer[\"image_meta_dict\"])"
   ]
  },
  {
   "cell_type": "markdown",
   "metadata": {},
   "source": [
    "Do transform using transform.Affine"
   ]
  },
  {
   "cell_type": "code",
   "execution_count": null,
   "metadata": {},
   "outputs": [],
   "source": [
    "monai_image_transform[\"image\"] = monai_aff_trans(monai_image_transform[\"image\"], padding_mode=\"border\")\n",
    "\n",
    "nifti_saver = monai.data.NiftiSaver(output_dir=\"tests\", output_postfix = \"trans_cor\",\n",
    "                                            resample=False, padding_mode=\"zeros\",\n",
    "                                            separate_folder=False)\n",
    "nifti_saver.save(monai_image_transform[\"image\"], monai_image_transform[\"image_meta_dict\"])"
   ]
  },
  {
   "cell_type": "code",
   "execution_count": null,
   "metadata": {},
   "outputs": [],
   "source": [
    "rotations = [t.pi/8, 0 ,0]\n",
    "\n",
    "tio_image = tio.Image(tensor=tio_copy[\"image\"])\n",
    "tio_image.save('test/tio_init_eye.nii.gz')\n",
    "\n",
    "rot_deg = np.array(rotations) * 180 / np.pi\n",
    "tio_rotations = (rot_deg[0], rot_deg[1], rot_deg[2])\n",
    "\n",
    "tio_aff = tio.Affine(1,tio_rotations,0,center=\"image\",default_pad_value=0.0, image_interpolation=\"linear\")\n"
   ]
  },
  {
   "cell_type": "code",
   "execution_count": null,
   "metadata": {},
   "outputs": [],
   "source": [
    "\n",
    "tio_trans = tio_aff(tio_image)\n",
    "tio_trans.save('tests/tio_lin_resample.nii.gz')\n"
   ]
  },
  {
   "cell_type": "code",
   "execution_count": null,
   "metadata": {},
   "outputs": [],
   "source": [
    "tio_trans = tio_aff(tio_image)\n",
    "#tio_trans = tio_resampler(tio_image)\n",
    "tio_trans.save('tests/tio_lin_resample.nii.gz')"
   ]
  },
  {
   "cell_type": "code",
   "execution_count": null,
   "metadata": {},
   "outputs": [],
   "source": [
    "a = t.tensor(affine).unsqueeze(0)"
   ]
  },
  {
   "cell_type": "code",
   "execution_count": null,
   "metadata": {},
   "outputs": [],
   "source": [
    "a[0,:,:]"
   ]
  },
  {
   "cell_type": "code",
   "execution_count": null,
   "metadata": {},
   "outputs": [],
   "source": [
    "affine"
   ]
  },
  {
   "cell_type": "code",
   "execution_count": null,
   "metadata": {},
   "outputs": [],
   "source": []
  }
 ],
 "metadata": {
  "interpreter": {
   "hash": "8b9fc516264676d6f652a0b2b5db69df6b013767801d59bb4d1447f6260ab1e3"
  },
  "kernelspec": {
   "display_name": "Python 3 (ipykernel)",
   "language": "python",
   "name": "python3"
  },
  "language_info": {
   "codemirror_mode": {
    "name": "ipython",
    "version": 3
   },
   "file_extension": ".py",
   "mimetype": "text/x-python",
   "name": "python",
   "nbconvert_exporter": "python",
   "pygments_lexer": "ipython3",
   "version": "3.9.7"
  }
 },
 "nbformat": 4,
 "nbformat_minor": 2
}
