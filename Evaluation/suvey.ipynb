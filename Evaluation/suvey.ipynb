{
 "cells": [
  {
   "cell_type": "code",
   "execution_count": null,
   "metadata": {},
   "outputs": [],
   "source": [
    "import scipy\n",
    "import numpy as np\n",
    "import matplotlib.pyplot as plt"
   ]
  },
  {
   "cell_type": "code",
   "execution_count": null,
   "metadata": {},
   "outputs": [],
   "source": [
    "def coinFlip(size):\n",
    "    flips = np.random.randint(0, 2, size=size)\n",
    "    return flips.mean()"
   ]
  },
  {
   "cell_type": "code",
   "execution_count": null,
   "metadata": {},
   "outputs": [],
   "source": [
    "size = 16\n",
    "samples = 10000\n",
    "results = []\n",
    "\n",
    "for i in range(0,samples):\n",
    "    results.append(coinFlip(size))\n",
    "results_numpy = np.array(results)"
   ]
  },
  {
   "cell_type": "code",
   "execution_count": null,
   "metadata": {},
   "outputs": [],
   "source": [
    "threshold = 0.48\n",
    "condition = True\n",
    "\n",
    "while condition:\n",
    "    outside_threshold = np.count_nonzero(results_numpy < 0.5 - threshold) + np.count_nonzero(results_numpy > 0.5 + threshold)\n",
    "    condition = outside_threshold < 0.1*samples\n",
    "    threshold -= 0.01\n",
    "    outside_threshold = 0"
   ]
  },
  {
   "cell_type": "code",
   "execution_count": null,
   "metadata": {},
   "outputs": [],
   "source": [
    "threshold"
   ]
  },
  {
   "cell_type": "code",
   "execution_count": null,
   "metadata": {},
   "outputs": [],
   "source": [
    "GAN_abs = np.array([3,9,1,0,2,3,2,2,11,4,0,2,2,2,12,0,2,2,3,0,2,5,2,2,4])\n",
    "SVRTK_abs = np.array([11,5,14,15,13,11,13,13,3,10,15,13,13,12,2,15,13,12,12,15,13,10,13,13,11])\n",
    "n_answered = GAN_abs + SVRTK_abs\n",
    "\n",
    "GAN_rel = GAN_abs/n_answered\n",
    "SVRTK_rel = SVRTK_abs/n_answered"
   ]
  },
  {
   "cell_type": "code",
   "execution_count": null,
   "metadata": {},
   "outputs": [],
   "source": [
    "GAN_rel_sorted = np.sort(GAN_rel)\n",
    "SVRTK_rel_sorte = np.sort(SVRTK_rel)[::-1]"
   ]
  },
  {
   "cell_type": "code",
   "execution_count": null,
   "metadata": {},
   "outputs": [],
   "source": [
    "GAN_rel_mean, SVRTK_rel_mean = np.mean(GAN_rel), np.mean(SVRTK_rel)\n",
    "GAN_data, SVRTK_data = np.append(GAN_rel_sorted, GAN_rel_mean), np.append(SVRTK_rel_sorte, SVRTK_rel_mean)\n",
    "labels = []\n",
    "for i in range(0,25): labels.append(str(i))\n",
    "labels.append('avg')"
   ]
  },
  {
   "cell_type": "code",
   "execution_count": null,
   "metadata": {},
   "outputs": [],
   "source": [
    "plt.style.use('ggplot')\n",
    "x = np.arange(len(labels))  # the label locations\n",
    "width = 0.25  # the width of the bars\n",
    "\n",
    "fig, ax = plt.subplots()\n",
    "rects1 = ax.bar(x - width/2, GAN_data, width, label='CycleGAN', color = 'xkcd:burnt red')\n",
    "rects2 = ax.bar(x + width/2, SVRTK_data, width, label='SVRTK', color= 'xkcd:slate blue')\n",
    "\n",
    "# Add some text for labels, title and custom x-axis tick labels, etc.\n",
    "ax.set_ylabel('Scores')\n",
    "ax.set_title('Scores by group and gender')\n",
    "ax.legend()\n",
    "fig.set_size_inches(12,5)\n",
    "fig.tight_layout()\n",
    "\n",
    "plt.show()\n"
   ]
  },
  {
   "cell_type": "code",
   "execution_count": null,
   "metadata": {},
   "outputs": [],
   "source": []
  }
 ],
 "metadata": {
  "interpreter": {
   "hash": "77b39be2e827a513bc1e99f9ee2c5bd06bcf1173545aea05756771da0d46633d"
  },
  "kernelspec": {
   "display_name": "Python 3.8.13 ('SVR_clean')",
   "language": "python",
   "name": "python3"
  },
  "language_info": {
   "codemirror_mode": {
    "name": "ipython",
    "version": 3
   },
   "file_extension": ".py",
   "mimetype": "text/x-python",
   "name": "python",
   "nbconvert_exporter": "python",
   "pygments_lexer": "ipython3",
   "version": "3.8.13"
  }
 },
 "nbformat": 4,
 "nbformat_minor": 2
}
