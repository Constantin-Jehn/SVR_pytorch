{
 "cells": [
  {
   "cell_type": "code",
   "execution_count": null,
   "metadata": {},
   "outputs": [],
   "source": [
    "import scipy\n",
    "import numpy as np\n",
    "import matplotlib.pyplot as plt"
   ]
  },
  {
   "cell_type": "code",
   "execution_count": null,
   "metadata": {},
   "outputs": [],
   "source": [
    "def coinFlip(size):\n",
    "    flips = np.random.randint(0, 2, size=size)\n",
    "    return flips.mean()"
   ]
  },
  {
   "cell_type": "code",
   "execution_count": null,
   "metadata": {},
   "outputs": [],
   "source": [
    "def chance_level_threshold(size, samples, confidence_interval):\n",
    "    results = []\n",
    "\n",
    "    for i in range(0,samples):\n",
    "        results.append(coinFlip(size))\n",
    "    results_numpy = np.array(results)\n",
    "    threshold = 0.48\n",
    "    condition = True\n",
    "\n",
    "    while condition:\n",
    "        outside_threshold = np.count_nonzero(results_numpy < 0.5 - threshold) + np.count_nonzero(results_numpy > 0.5 + threshold)\n",
    "        condition = outside_threshold < (1-confidence_interval)*samples\n",
    "        threshold -= 0.01\n",
    "        outside_threshold = 0\n",
    "    return threshold"
   ]
  },
  {
   "cell_type": "code",
   "execution_count": null,
   "metadata": {},
   "outputs": [],
   "source": [
    "threshold = chance_level_threshold(16,1000, 0.96)\n",
    "print(threshold)"
   ]
  },
  {
   "cell_type": "code",
   "execution_count": null,
   "metadata": {},
   "outputs": [],
   "source": [
    "GAN_abs = np.array([3,9,1,0,2,3,2,2,11,4,0,2,2,2,12,0,2,2,3,0,2,5,2,2,4])\n",
    "SVRTK_abs = np.array([11,5,14,15,13,11,13,13,3,10,15,13,13,12,2,15,13,12,12,15,13,10,13,13,11])\n",
    "GAN_sum, SVRTK_sum = np.sum(GAN_abs), np.sum(SVRTK_abs)\n",
    "n_answered = GAN_abs + SVRTK_abs\n",
    "\n",
    "GAN_rel = GAN_abs/n_answered\n",
    "SVRTK_rel = SVRTK_abs/n_answered"
   ]
  },
  {
   "cell_type": "code",
   "execution_count": null,
   "metadata": {},
   "outputs": [],
   "source": [
    "GAN_rel_sorted = np.sort(GAN_rel)\n",
    "SVRTK_rel_sorte = np.sort(SVRTK_rel)[::-1]"
   ]
  },
  {
   "cell_type": "code",
   "execution_count": null,
   "metadata": {},
   "outputs": [],
   "source": [
    "GAN_rel_mean, SVRTK_rel_mean = np.mean(GAN_rel), np.mean(SVRTK_rel)\n",
    "GAN_data, SVRTK_data = np.append(GAN_rel_sorted, GAN_rel_mean), np.append(SVRTK_rel_sorte, SVRTK_rel_mean)\n",
    "labels = []\n",
    "for i in range(0,25): labels.append(str(i))"
   ]
  },
  {
   "cell_type": "code",
   "execution_count": null,
   "metadata": {},
   "outputs": [],
   "source": [
    "abs_threshold = chance_level_threshold(GAN_sum + SVRTK_sum, 1000, 0.99) * (GAN_sum + SVRTK_sum)\n",
    "print(abs_threshold)"
   ]
  },
  {
   "cell_type": "code",
   "execution_count": null,
   "metadata": {},
   "outputs": [],
   "source": [
    "plt.style.use('ggplot')\n",
    "x = np.arange(len(labels))  # the label locations\n",
    "width = 0.35  # the width of the bars\n",
    "\n",
    "fig, ax = plt.subplots(1,2, gridspec_kw={'width_ratios': [4,1]})\n",
    "ax[0].axhline(GAN_rel_mean, color = 'xkcd:burnt red', linewidth = 0.9, label=r'$\\varnothing$CycleGAN')\n",
    "ax[0].axhline(SVRTK_rel_mean,color= 'xkcd:slate green', linewidth = 0.9, label = r'$\\varnothing$SVRTK')\n",
    "ax[0].fill_between(x, 0.5-threshold,0.5+threshold, color = 'xkcd:slate blue', alpha = 0.4, label = r'95% confidence interval $n=16$')\n",
    "rects1 = ax[0].bar(x - width/2, GAN_rel_sorted, width, label='CycleGAN', color = 'xkcd:burnt red')\n",
    "rects2 = ax[0].bar(x + width/2, SVRTK_rel_sorte, width, label='SVRTK', color= 'xkcd:slate green')\n",
    "\n",
    "# Add some text for labels, title and custom x-axis tick labels, etc.\n",
    "ax[0].set_ylabel('Relative Frequency', fontsize=20)\n",
    "ax[0].set_xlabel('Single Questions \\n (a)', fontsize = 20)\n",
    "ax[0].set_yticks([0.0,0.25,0.5,0.75,1.0])\n",
    "ax[0].set_xticks([])\n",
    "ax[0].set_ylim(0,1.2)\n",
    "ax[0].legend(ncol=2, fontsize = 16)\n",
    "ax[0].tick_params(axis='both', which='major', labelsize=16)\n",
    "\n",
    "x_1 = np.arange(1)\n",
    "fill_ar = np.array([-0.4,0.4])\n",
    "rects3 = ax[1].bar(x_1 - width/2, GAN_sum, width, label='CycleGAN', color = 'xkcd:burnt red')\n",
    "rects4 = ax[1].bar(x_1 + width/2, SVRTK_sum, width, label='SVRTK', color= 'xkcd:slate green')\n",
    "ax[1].set_ylabel('Absolute Frequency', fontsize=20)\n",
    "ax[1].set_xlabel('All Questions\\n(b)', fontsize = 20)\n",
    "ax[1].set_xticks([])\n",
    "ax[1].tick_params(axis='both', which='major', labelsize=16)\n",
    "#ax[1].axhline((GAN_sum + SVRTK_sum)/2,color= 'xkcd:slate blue', linewidth = 0.9)\n",
    "#ax[1].fill_between(fill_ar,(GAN_sum + SVRTK_sum)/2-abs_threshold,(GAN_sum + SVRTK_sum)/2+abs_threshold, color = 'xkcd:slate blue', alpha = 0.4)\n",
    "ax[1].bar_label(rects3, padding=3, fontsize = 17, label_type = 'center')\n",
    "ax[1].bar_label(rects4, padding=3, fontsize = 17, label_type = 'center')\n",
    "#ax[1].yaxis.set_label_position(\"right\")\n",
    "\n",
    "fig.set_size_inches(15,6)\n",
    "fig.tight_layout()\n",
    "plt.show()\n",
    "\n",
    "fig.savefig('05_survey.pdf',  bbox_inches='tight')\n"
   ]
  },
  {
   "cell_type": "code",
   "execution_count": null,
   "metadata": {},
   "outputs": [],
   "source": [
    "GAN_sum"
   ]
  },
  {
   "cell_type": "code",
   "execution_count": null,
   "metadata": {},
   "outputs": [],
   "source": [
    "SVRTK_sum"
   ]
  },
  {
   "cell_type": "code",
   "execution_count": null,
   "metadata": {},
   "outputs": [],
   "source": [
    "x_1"
   ]
  },
  {
   "cell_type": "code",
   "execution_count": null,
   "metadata": {},
   "outputs": [],
   "source": [
    "import matplotlib\n",
    "print(matplotlib.__version__)"
   ]
  },
  {
   "cell_type": "code",
   "execution_count": null,
   "metadata": {},
   "outputs": [],
   "source": [
    "GAN_rel_mean"
   ]
  },
  {
   "cell_type": "code",
   "execution_count": null,
   "metadata": {},
   "outputs": [],
   "source": [
    "SVRTK_rel_mean"
   ]
  },
  {
   "cell_type": "code",
   "execution_count": null,
   "metadata": {},
   "outputs": [],
   "source": []
  }
 ],
 "metadata": {
  "interpreter": {
   "hash": "77b39be2e827a513bc1e99f9ee2c5bd06bcf1173545aea05756771da0d46633d"
  },
  "kernelspec": {
   "display_name": "Python 3.8.13 ('SVR_clean')",
   "language": "python",
   "name": "python3"
  },
  "language_info": {
   "codemirror_mode": {
    "name": "ipython",
    "version": 3
   },
   "file_extension": ".py",
   "mimetype": "text/x-python",
   "name": "python",
   "nbconvert_exporter": "python",
   "pygments_lexer": "ipython3",
   "version": "3.8.13"
  }
 },
 "nbformat": 4,
 "nbformat_minor": 2
}
