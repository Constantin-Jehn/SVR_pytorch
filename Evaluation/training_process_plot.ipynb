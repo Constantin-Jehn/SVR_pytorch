{
 "cells": [
  {
   "cell_type": "code",
   "execution_count": null,
   "metadata": {},
   "outputs": [],
   "source": [
    "import numpy as np\n",
    "import csv\n",
    "import matplotlib.pyplot as plt\n",
    "import pandas\n",
    "import torchio as tio\n",
    "import monai\n",
    "import torch as t"
   ]
  },
  {
   "cell_type": "code",
   "execution_count": null,
   "metadata": {},
   "outputs": [],
   "source": [
    "path_train_images = \"/Users/constantin/Documents/05_FAU_CE/4.Semester/Msc/Cycle_GAN_results/test_lr_0.0004_19_09/training_process\"\n",
    "target_file = \"/Users/constantin/Documents/05_FAU_CE/4.Semester/Msc/Cycle_GAN_results/test_lr_0.0004_19_09/test_all/labels/21_iFIND00047_25Sep2015_label.nii.gz\""
   ]
  },
  {
   "cell_type": "code",
   "execution_count": null,
   "metadata": {},
   "outputs": [],
   "source": [
    "import os\n",
    "def get_sorted_file_list(dir:str)->list:\n",
    "    list_of_files = sorted(os.listdir(dir))\n",
    "    for file in list_of_files:\n",
    "        if file[0] == '.':\n",
    "            list_of_files.remove(file)\n",
    "    return list_of_files"
   ]
  },
  {
   "cell_type": "code",
   "execution_count": null,
   "metadata": {},
   "outputs": [],
   "source": [
    "def normalize_to_unit_interval(tio_image:tio.ScalarImage):\n",
    "    min_val, max_val = t.min(tio_image.data), t.max(tio_image.data)\n",
    "    range_val = max_val - min_val\n",
    "    norm_data = t.div((tio_image.data - min_val), range_val)\n",
    "    tio_image.set_data(norm_data)\n",
    "    return tio_image"
   ]
  },
  {
   "cell_type": "code",
   "execution_count": null,
   "metadata": {},
   "outputs": [],
   "source": [
    "sorted_training_file_list = get_sorted_file_list(path_train_images)"
   ]
  },
  {
   "cell_type": "code",
   "execution_count": null,
   "metadata": {},
   "outputs": [],
   "source": [
    "monai_psnr = monai.metrics.PSNRMetric(1.0)"
   ]
  },
  {
   "cell_type": "code",
   "execution_count": null,
   "metadata": {},
   "outputs": [],
   "source": [
    "target_tio = normalize_to_unit_interval(tio.ScalarImage(target_file))"
   ]
  },
  {
   "cell_type": "code",
   "execution_count": null,
   "metadata": {},
   "outputs": [],
   "source": [
    "target_tensor = target_tio.data.float()\n",
    "psnr_to_target = []\n",
    "for i in range(0,len(sorted_training_file_list)):\n",
    "    training_file = os.path.join(path_train_images,sorted_training_file_list[i])\n",
    "    training_tio = normalize_to_unit_interval(tio.ScalarImage(training_file))\n",
    "    training_tensor = training_tio.data.float()\n",
    "    psnr_to_target.append(monai_psnr(target_tensor, training_tensor).item())"
   ]
  },
  {
   "cell_type": "code",
   "execution_count": null,
   "metadata": {},
   "outputs": [],
   "source": [
    "epochs = np.arange(0,210, step=20)\n",
    "plt.style.use('seaborn-whitegrid')\n",
    "fig, axs = plt.subplots(1, 1)\n",
    "axs.set_title('Intermediate results to ground truth', fontsize = 26)\n",
    "axs.plot(epochs, psnr_to_target, color='xkcd:slate grey', linewidth = 3, marker='s', markersize=8)\n",
    "axs.set_ylim(22, 30)\n",
    "axs.set_ylabel('PSNR', fontsize = 20)\n",
    "axs.set_xticks(np.arange(0,201, step=20))\n",
    "axs.tick_params(axis='both', labelsize=15)\n",
    "axs.legend(fontsize = 16)\n",
    "axs.set_xlabel('epoch',fontsize = 20)\n",
    "\n",
    "fig.set_size_inches(16.5,5)\n",
    "plt.show()\n",
    "\n",
    "fig.savefig('tain_success.pdf',  bbox_inches='tight')"
   ]
  },
  {
   "cell_type": "code",
   "execution_count": null,
   "metadata": {},
   "outputs": [],
   "source": [
    "sorted_training_file_list"
   ]
  },
  {
   "cell_type": "code",
   "execution_count": null,
   "metadata": {},
   "outputs": [],
   "source": [
    "i"
   ]
  },
  {
   "cell_type": "code",
   "execution_count": null,
   "metadata": {},
   "outputs": [],
   "source": [
    "psnr_to_target"
   ]
  }
 ],
 "metadata": {
  "interpreter": {
   "hash": "12ad611148829111e6a38c7e1875f7596226fe9fda7952143486bdc879548fe0"
  },
  "kernelspec": {
   "display_name": "Python 3.9.12 ('SVR_Monai')",
   "language": "python",
   "name": "python3"
  },
  "language_info": {
   "codemirror_mode": {
    "name": "ipython",
    "version": 3
   },
   "file_extension": ".py",
   "mimetype": "text/x-python",
   "name": "python",
   "nbconvert_exporter": "python",
   "pygments_lexer": "ipython3",
   "version": "3.9.12"
  }
 },
 "nbformat": 4,
 "nbformat_minor": 2
}
