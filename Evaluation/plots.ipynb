{
 "cells": [
  {
   "cell_type": "code",
   "execution_count": null,
   "metadata": {},
   "outputs": [],
   "source": [
    "import matplotlib.pyplot as plt\n",
    "import json\n",
    "import pandas as pd\n",
    "import numpy as np"
   ]
  },
  {
   "cell_type": "code",
   "execution_count": null,
   "metadata": {},
   "outputs": [],
   "source": [
    "PSNR_overview_path = \"/Users/constantin/Documents/05_FAU_CE/4.Semester/Msc/Cycle_GAN_results/PSNR_results_all.json\"\n",
    "SSIM_overview_path =  \"/Users/constantin/Documents/05_FAU_CE/4.Semester/Msc/Cycle_GAN_results/SSIM_results_all.json\""
   ]
  },
  {
   "cell_type": "code",
   "execution_count": null,
   "metadata": {},
   "outputs": [],
   "source": [
    "PSNR_df = pd.read_json(PSNR_overview_path)\n",
    "SSIM_df = pd.read_json(SSIM_overview_path)"
   ]
  },
  {
   "cell_type": "code",
   "execution_count": null,
   "metadata": {},
   "outputs": [],
   "source": [
    "def get_data(lr_string, data_frame):\n",
    "    cycle_to_label_mean = []\n",
    "    cycle_to_label_sem = []\n",
    "\n",
    "    image_to_label_mean = []\n",
    "    image_to_label_sem = []\n",
    "    for key in PSNR_df:\n",
    "        cycle_to_label_sem.append(data_frame[key][\"cycle_to_label_sem\"][lr_string])\n",
    "        cycle_to_label_mean.append(data_frame[key][\"cycle_to_label_means\"][lr_string])\n",
    "\n",
    "        image_to_label_mean.append(data_frame[key][\"image_to_label_means\"][lr_string])\n",
    "        image_to_label_sem.append(data_frame[key][\"image_to_label_sem\"][lr_string])\n",
    "    return cycle_to_label_mean, cycle_to_label_sem, image_to_label_mean, image_to_label_sem"
   ]
  },
  {
   "cell_type": "code",
   "execution_count": null,
   "metadata": {},
   "outputs": [],
   "source": [
    "def plot_data_psnr(lr_string, data_frame, title):\n",
    "\n",
    "    psnr_cycle_to_label_mean, psnr_cycle_to_label_sem, psnr_image_to_label_mean, psnr_image_to_label_sem = get_data(lr_string, data_frame)\n",
    "\n",
    "\n",
    "    plt.style.use('seaborn-whitegrid')\n",
    "\n",
    "    labels = [\"all\", \"image0\", \"prereg\"]\n",
    "    x = np.arange(len(labels))  # the label locations\n",
    "    width = 0.35  # the width of the bars\n",
    "\n",
    "    fig, ax = plt.subplots()\n",
    "    rects1 = ax.bar(x - width/2, psnr_image_to_label_mean, width, label='image to label', yerr = psnr_image_to_label_sem, color='xkcd:slate blue')\n",
    "    rects2 = ax.bar(x + width/2, psnr_cycle_to_label_mean, width, label='cycle to label', yerr=psnr_cycle_to_label_sem, color='xkcd:slate grey')\n",
    "\n",
    "    # Add some text for labels, title and custom x-axis tick labels, etc.\n",
    "    ax.set_ylabel('PSNR', fontsize=14)\n",
    "    ax.set_title(title, fontsize = 16)\n",
    "    ax.set_xticks(x, labels)\n",
    "    ax.set_ylim((15,30))\n",
    "    ax.legend(fontsize=12)\n",
    "\n",
    "    #ax.bar_label(rects1, padding=3)\n",
    "    #ax.bar_label(rects2, padding=3)\n",
    "\n",
    "    fig.tight_layout()\n",
    "\n",
    "    plt.grid(True)\n",
    "    plt.show()\n",
    "    fig.savefig('PSNR_' + title +  '.pdf', bbox_inches='tight')"
   ]
  },
  {
   "cell_type": "code",
   "execution_count": null,
   "metadata": {},
   "outputs": [],
   "source": [
    "def plot_data_ssim(lr_string, data_frame, title):\n",
    "\n",
    "    psnr_cycle_to_label_mean, psnr_cycle_to_label_sem, psnr_image_to_label_mean, psnr_image_to_label_sem = get_data(lr_string, data_frame)\n",
    "\n",
    "\n",
    "    plt.style.use('seaborn-whitegrid')\n",
    "\n",
    "    labels = [\"all\", \"image0\", \"prereg\"]\n",
    "    x = np.arange(len(labels))  # the label locations\n",
    "    width = 0.35  # the width of the bars\n",
    "\n",
    "    fig, ax = plt.subplots()\n",
    "    rects1 = ax.bar(x - width/2, psnr_image_to_label_mean, width, label='image to label', yerr = psnr_image_to_label_sem, color='xkcd:slate blue')\n",
    "    rects2 = ax.bar(x + width/2, psnr_cycle_to_label_mean, width, label='cycle to label', yerr=psnr_cycle_to_label_sem, color='xkcd:slate grey')\n",
    "\n",
    "    # Add some text for labels, title and custom x-axis tick labels, etc.\n",
    "    ax.set_ylabel('SSIM', fontsize=14)\n",
    "    ax.set_title(title, fontsize = 16)\n",
    "    ax.set_xticks(x, labels)\n",
    "    ax.set_ylim((0.5,1.0))\n",
    "    ax.legend(fontsize=12)\n",
    "\n",
    "    #ax.bar_label(rects1, padding=3)\n",
    "    #ax.bar_label(rects2, padding=3)\n",
    "\n",
    "    fig.tight_layout()\n",
    "\n",
    "    plt.grid(True)\n",
    "    plt.show()\n",
    "    fig.savefig('SSIM_' + title + '.pdf',  bbox_inches='tight')"
   ]
  },
  {
   "cell_type": "code",
   "execution_count": null,
   "metadata": {},
   "outputs": [],
   "source": [
    "#lr 0.0002\n",
    "lr_string = 'lr=0.001'\n",
    "title = 'lr=0.001'\n",
    "metric = 'PSNR'\n",
    "plot_data_psnr(lr_string, PSNR_df, title)"
   ]
  },
  {
   "cell_type": "code",
   "execution_count": null,
   "metadata": {},
   "outputs": [],
   "source": [
    "lr_string = 'lr=0.0004'\n",
    "title = 'lr=0.0004'\n",
    "metric = 'SSIM'\n",
    "plot_data_ssim(lr_string, SSIM_df, title)"
   ]
  },
  {
   "cell_type": "code",
   "execution_count": null,
   "metadata": {},
   "outputs": [],
   "source": [
    "#lr 0.0004\n",
    "lr_string = 'lr=0.001'\n",
    "title = 'lr=0.001'\n",
    "\n",
    "plot_data_psnr(lr_string, PSNR_df, title)\n",
    "plot_data_ssim(lr_string, SSIM_df, title)"
   ]
  },
  {
   "cell_type": "code",
   "execution_count": null,
   "metadata": {},
   "outputs": [],
   "source": []
  }
 ],
 "metadata": {
  "interpreter": {
   "hash": "12ad611148829111e6a38c7e1875f7596226fe9fda7952143486bdc879548fe0"
  },
  "kernelspec": {
   "display_name": "Python 3.9.12 ('SVR_Monai')",
   "language": "python",
   "name": "python3"
  },
  "language_info": {
   "codemirror_mode": {
    "name": "ipython",
    "version": 3
   },
   "file_extension": ".py",
   "mimetype": "text/x-python",
   "name": "python",
   "nbconvert_exporter": "python",
   "pygments_lexer": "ipython3",
   "version": "3.9.12"
  }
 },
 "nbformat": 4,
 "nbformat_minor": 2
}
