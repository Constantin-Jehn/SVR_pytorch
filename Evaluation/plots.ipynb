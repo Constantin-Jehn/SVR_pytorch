{
 "cells": [
  {
   "cell_type": "code",
   "execution_count": null,
   "metadata": {},
   "outputs": [],
   "source": [
    "import matplotlib.pyplot as plt\n",
    "import json\n",
    "import pandas as pd\n",
    "import numpy as np"
   ]
  },
  {
   "cell_type": "code",
   "execution_count": null,
   "metadata": {},
   "outputs": [],
   "source": [
    "PSNR_overview_path = \"/Users/constantin/Documents/05_FAU_CE/4.Semester/Msc/Cycle_GAN_results/PSNR_results_all.json\"\n",
    "SSIM_overview_path =  \"/Users/constantin/Documents/05_FAU_CE/4.Semester/Msc/Cycle_GAN_results/SSIM_results_all.json\""
   ]
  },
  {
   "cell_type": "code",
   "execution_count": null,
   "metadata": {},
   "outputs": [],
   "source": [
    "PSNR_df = pd.read_json(PSNR_overview_path)"
   ]
  },
  {
   "cell_type": "code",
   "execution_count": null,
   "metadata": {},
   "outputs": [],
   "source": [
    "PSNR_df[\"test_all\"]"
   ]
  },
  {
   "cell_type": "code",
   "execution_count": null,
   "metadata": {},
   "outputs": [],
   "source": [
    "def get_list_from_dict(dictionary):\n",
    "    vals = []\n",
    "    for key in PSNR_df[\"test_all\"][\"image_to_label_means\"]:\n",
    "        vals.append(PSNR_df[\"test_all\"][\"image_to_label_means\"][key])\n",
    "    return vals"
   ]
  },
  {
   "cell_type": "code",
   "execution_count": null,
   "metadata": {},
   "outputs": [],
   "source": [
    "get_list_from_dict(PSNR_df[\"test_all\"][\"image_to_label_means\"])"
   ]
  },
  {
   "cell_type": "code",
   "execution_count": null,
   "metadata": {},
   "outputs": [],
   "source": [
    "cycle_to_label = []\n",
    "cycle_to_label_sem = []\n",
    "\n",
    "image_to_label = []\n",
    "image_to_label_sem = []\n",
    "for key in PSNR_df:\n",
    "    cycle_to_label_sem.append(PSNR_df[key][\"cycle_to_label_sem\"][\"lr=0.0002\"])\n",
    "    cycle_to_label.append(PSNR_df[key][\"cycle_to_label_means\"][\"lr=0.0002\"])\n",
    "\n",
    "    image_to_label.append(PSNR_df[key][\"image_to_label_means\"][\"lr=0.0002\"])\n",
    "    image_to_label_sem.append(PSNR_df[key][\"image_to_label_sem\"][\"lr=0.0002\"])"
   ]
  },
  {
   "cell_type": "code",
   "execution_count": null,
   "metadata": {},
   "outputs": [],
   "source": [
    "cycle_to_label"
   ]
  },
  {
   "cell_type": "code",
   "execution_count": null,
   "metadata": {},
   "outputs": [],
   "source": [
    "cycle_to_label_sem"
   ]
  },
  {
   "cell_type": "code",
   "execution_count": null,
   "metadata": {},
   "outputs": [],
   "source": [
    "labels = [\"all\", \"image0\", \"prereg\"]\n",
    "x = np.arange(len(labels))  # the label locations\n",
    "width = 0.35  # the width of the bars"
   ]
  },
  {
   "cell_type": "code",
   "execution_count": null,
   "metadata": {},
   "outputs": [],
   "source": [
    "plt.style.use('seaborn-whitegrid')\n",
    "\n",
    "fig, ax = plt.subplots()\n",
    "rects1 = ax.bar(x - width/2, image_to_label, width, label='image to label', yerr = image_to_label_sem, color='xkcd:slate blue')\n",
    "rects2 = ax.bar(x + width/2, cycle_to_label, width, label='cycle to label', yerr=cycle_to_label_sem, color='xkcd:slate grey')\n",
    "\n",
    "# Add some text for labels, title and custom x-axis tick labels, etc.\n",
    "ax.set_ylabel('PSNR', fontsize=14)\n",
    "ax.set_title('Results on the test set lr=0.0002', fontsize = 16)\n",
    "ax.set_xticks(x, labels)\n",
    "ax.set_ylim((15,30))\n",
    "ax.legend(fontsize=12)\n",
    "\n",
    "#ax.bar_label(rects1, padding=3)\n",
    "#ax.bar_label(rects2, padding=3)\n",
    "\n",
    "fig.tight_layout()\n",
    "\n",
    "plt.grid(True)\n",
    "plt.show()"
   ]
  },
  {
   "cell_type": "code",
   "execution_count": null,
   "metadata": {},
   "outputs": [],
   "source": []
  }
 ],
 "metadata": {
  "interpreter": {
   "hash": "12ad611148829111e6a38c7e1875f7596226fe9fda7952143486bdc879548fe0"
  },
  "kernelspec": {
   "display_name": "Python 3.9.12 ('SVR_Monai')",
   "language": "python",
   "name": "python3"
  },
  "language_info": {
   "codemirror_mode": {
    "name": "ipython",
    "version": 3
   },
   "file_extension": ".py",
   "mimetype": "text/x-python",
   "name": "python",
   "nbconvert_exporter": "python",
   "pygments_lexer": "ipython3",
   "version": "3.9.12"
  }
 },
 "nbformat": 4,
 "nbformat_minor": 2
}
