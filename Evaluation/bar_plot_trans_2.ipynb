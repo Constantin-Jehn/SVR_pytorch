{
 "cells": [
  {
   "cell_type": "code",
   "execution_count": null,
   "metadata": {},
   "outputs": [],
   "source": [
    "import matplotlib.pyplot as plt\n",
    "import json\n",
    "import pandas as pd\n",
    "import numpy as np"
   ]
  },
  {
   "cell_type": "code",
   "execution_count": null,
   "metadata": {},
   "outputs": [],
   "source": [
    "PSNR_overview_path = \"/Users/constantin/Documents/05_FAU_CE/4.Semester/Msc/Cycle_GAN_results/PSNR_results_all.json\"\n",
    "SSIM_overview_path =  \"/Users/constantin/Documents/05_FAU_CE/4.Semester/Msc/Cycle_GAN_results/SSIM_results_all.json\"\n",
    "NMSE_overview_path = \"/Users/constantin/Documents/05_FAU_CE/4.Semester/Msc/Cycle_GAN_results/NMSE_results_all.json\"\n",
    "NCC_overview_path =  \"/Users/constantin/Documents/05_FAU_CE/4.Semester/Msc/Cycle_GAN_results/NCC_results_all.json\"\n",
    "LPIPS_overview_path =  \"/Users/constantin/Documents/05_FAU_CE/4.Semester/Msc/Cycle_GAN_results/LPIPS_results_all.json\""
   ]
  },
  {
   "cell_type": "code",
   "execution_count": null,
   "metadata": {},
   "outputs": [],
   "source": [
    "PSNR_df = pd.read_json(PSNR_overview_path)\n",
    "SSIM_df = pd.read_json(SSIM_overview_path)\n",
    "NMSE_df = pd.read_json(NMSE_overview_path)\n",
    "NCC_df = pd.read_json(NCC_overview_path)\n",
    "LPIPS_df = pd.read_json(LPIPS_overview_path)"
   ]
  },
  {
   "cell_type": "code",
   "execution_count": null,
   "metadata": {},
   "outputs": [],
   "source": [
    "def get_data(lr_string, data_frame):\n",
    "    cycle_to_label_mean = []\n",
    "    cycle_to_label_sem = []\n",
    "\n",
    "    image_to_label_mean = []\n",
    "    image_to_label_sem = []\n",
    "    for key in data_frame:\n",
    "        cycle_to_label_sem.append(data_frame[key][\"cycle_to_label_sem\"][lr_string])\n",
    "        cycle_to_label_mean.append(data_frame[key][\"cycle_to_label_means\"][lr_string])\n",
    "\n",
    "        image_to_label_mean.append(data_frame[key][\"image_to_label_means\"][lr_string])\n",
    "        image_to_label_sem.append(data_frame[key][\"image_to_label_sem\"][lr_string])\n",
    "    return cycle_to_label_mean, cycle_to_label_sem, image_to_label_mean, image_to_label_sem"
   ]
  },
  {
   "cell_type": "code",
   "execution_count": null,
   "metadata": {},
   "outputs": [],
   "source": [
    "#cycle-to-label_mean, cycle-to-label-sem, image-to-label-mean, image-to-label-sem\n",
    "PSNR_0_0002 = get_data('lr=0.0002', PSNR_df)\n",
    "PSNR_0_0004 = get_data('lr=0.0004', PSNR_df)\n",
    "PSNR_0_001 = get_data('lr=0.001', PSNR_df)\n",
    "\n",
    "SSIM_0_0002 = get_data('lr=0.0002', SSIM_df)\n",
    "SSIM_0_0004 = get_data('lr=0.0004', SSIM_df)\n",
    "SSIM_0_001 = get_data('lr=0.001', SSIM_df)\n",
    "\n",
    "NMSE_0_0002 = get_data('lr=0.0002', NMSE_df)\n",
    "NMSE_0_0004 = get_data('lr=0.0004', NMSE_df)\n",
    "NMSE_0_001 = get_data('lr=0.001', NMSE_df)\n",
    "\n",
    "NCC_0_0002 = get_data('lr=0.0002', NCC_df)\n",
    "NCC_0_0004 = get_data('lr=0.0004', NCC_df)\n",
    "NCC_0_001 = get_data('lr=0.001', NCC_df)"
   ]
  },
  {
   "cell_type": "code",
   "execution_count": null,
   "metadata": {},
   "outputs": [],
   "source": [
    "plt.style.use('ggplot')\n",
    "labels = ['0.0002', '0.0004', '0.001']\n",
    "x = np.arange(len(labels))\n",
    "\n",
    "\n",
    "#PLOT PSNR\n",
    "fig, ax = plt.subplots(3,2)\n",
    "\n",
    "data_frames = [[PSNR_df, NMSE_df], [SSIM_df, NCC_df], [LPIPS_df, LPIPS_df]]\n",
    "ylabels = [['PSNR', 'NMSE'], ['SSIM', 'NCC'], ['LPIPS', 'leged']]\n",
    "ylims = [[(21,29),(0.05,0.2)],[(0.75,1.0),(0.8,0.95)], [(0.08,0.24),(0.1,0.2)]]\n",
    "\n",
    "for i in range(0,3):\n",
    "    for j in range(0,2):\n",
    "        if(i!=3 and j !=2):\n",
    "            data_frame = data_frames[i][j]\n",
    "            ylabel = ylabels[i][j]\n",
    "            ylim = ylims[i][j]\n",
    "\n",
    "            cycle_to_label = [data_frame[\"test_all\"][\"cycle_to_label_means\"]['lr=0.0002'], data_frame[\"test_all\"][\"cycle_to_label_means\"]['lr=0.0004'], data_frame[\"test_all\"][\"cycle_to_label_means\"]['lr=0.001']]\n",
    "            cycle_to_label_sem = [data_frame[\"test_all\"][\"cycle_to_label_sem\"]['lr=0.0002'], data_frame[\"test_all\"][\"cycle_to_label_sem\"]['lr=0.0004'], data_frame[\"test_all\"][\"cycle_to_label_sem\"]['lr=0.001']]\n",
    "            image_to_label = [data_frame[\"test_all\"][\"image_to_label_means\"]['lr=0.0002'], data_frame[\"test_all\"][\"image_to_label_means\"]['lr=0.0004'], data_frame[\"test_all\"][\"image_to_label_means\"]['lr=0.001']]\n",
    "            image_to_label_sem = [data_frame[\"test_all\"][\"image_to_label_sem\"]['lr=0.0002'], data_frame[\"test_all\"][\"image_to_label_sem\"]['lr=0.0004'], data_frame[\"test_all\"][\"image_to_label_sem\"]['lr=0.001']]\n",
    "\n",
    "            ax[i,j].errorbar(labels, np.abs(np.array(cycle_to_label)), yerr = cycle_to_label_sem,color='xkcd:burnt red', fmt = 's', markersize=10, label='Model result of all images')\n",
    "            ax[i,j].axhline(abs(image_to_label[0]),linewidth = 0.8,  color = 'xkcd:burnt red', label = r'Image0 and prereg to SVRTK')\n",
    "\n",
    "\n",
    "            cycle_to_label = [data_frame[\"test_image0\"][\"cycle_to_label_means\"]['lr=0.0002'], data_frame[\"test_image0\"][\"cycle_to_label_means\"]['lr=0.0004'], data_frame[\"test_image0\"][\"cycle_to_label_means\"]['lr=0.001']]\n",
    "            cycle_to_label_sem = [data_frame[\"test_image0\"][\"cycle_to_label_sem\"]['lr=0.0002'], data_frame[\"test_image0\"][\"cycle_to_label_sem\"]['lr=0.0004'], data_frame[\"test_image0\"][\"cycle_to_label_sem\"]['lr=0.001']]\n",
    "            image_to_label = [data_frame[\"test_image0\"][\"image_to_label_means\"]['lr=0.0002'], data_frame[\"test_image0\"][\"image_to_label_means\"]['lr=0.0004'], data_frame[\"test_image0\"][\"image_to_label_means\"]['lr=0.001']]\n",
    "            image_to_label_sem = [data_frame[\"test_image0\"][\"image_to_label_sem\"]['lr=0.0002'], data_frame[\"test_image0\"][\"image_to_label_sem\"]['lr=0.0004'], data_frame[\"test_image0\"][\"image_to_label_sem\"]['lr=0.001']]\n",
    "\n",
    "            ax[i,j].errorbar(labels, np.abs(np.array(cycle_to_label)), yerr = cycle_to_label_sem,color='xkcd:slate green', fmt = '^', markersize=10, label='Model result of class image0')\n",
    "            ax[i,j].axhline(abs(image_to_label[0]), linestyle='dashed', color = 'xkcd:slate green', label = 'Image0 to SVRTK')\n",
    "\n",
    "            cycle_to_label = [data_frame[\"test_prereg\"][\"cycle_to_label_means\"]['lr=0.0002'], data_frame[\"test_prereg\"][\"cycle_to_label_means\"]['lr=0.0004'], data_frame[\"test_prereg\"][\"cycle_to_label_means\"]['lr=0.001']]\n",
    "            cycle_to_label_sem = [data_frame[\"test_prereg\"][\"cycle_to_label_sem\"]['lr=0.0002'], data_frame[\"test_prereg\"][\"cycle_to_label_sem\"]['lr=0.0004'], data_frame[\"test_prereg\"][\"cycle_to_label_sem\"]['lr=0.001']]\n",
    "            image_to_label = [data_frame[\"test_prereg\"][\"image_to_label_means\"]['lr=0.0002'], data_frame[\"test_prereg\"][\"image_to_label_means\"]['lr=0.0004'], data_frame[\"test_prereg\"][\"image_to_label_means\"]['lr=0.001']]\n",
    "            image_to_label_sem = [data_frame[\"test_prereg\"][\"image_to_label_sem\"]['lr=0.0002'], data_frame[\"test_prereg\"][\"image_to_label_sem\"]['lr=0.0004'], data_frame[\"test_prereg\"][\"image_to_label_sem\"]['lr=0.001']]\n",
    "\n",
    "            ax[i,j].errorbar(labels, np.abs(np.array(cycle_to_label)), yerr = cycle_to_label_sem,color='xkcd:slate blue', fmt = 'X', markersize=10, label='Model results of class prereg')\n",
    "            ax[i,j].axhline(abs(image_to_label[0]), linestyle='dashdot', color = 'xkcd:slate blue', label = r'Prereg to SVRTK')\n",
    "            ax[i,j].set_ylim(ylim)\n",
    "            #ax[i,j].set_xticks(x, labels)\n",
    "            if i == 1:\n",
    "                ax[i,j].set_xlabel('learning rate', fontsize = 16)\n",
    "            ax[i,j].tick_params(axis='both', labelsize = 15)\n",
    "            if i  == 1 and j == 1:\n",
    "                ax[i,j].legend(fontsize = 18, bbox_to_anchor = (0.9,-0.4), ncol = 1)\n",
    "            ax[i,j].set_ylabel(ylabel, fontsize = 16)\n",
    "\n",
    "fig.set_size_inches(18,20)\n",
    "plt.grid(True)\n",
    "fig.delaxes(ax[2,1])\n",
    "#fig.suptitle('Image-to-Image Translation', fontsize = 26)\n",
    "plt.show()\n",
    "\n",
    "fig.savefig('cycle_gan_metrics.pdf',  bbox_inches='tight')\n",
    "\n"
   ]
  },
  {
   "cell_type": "code",
   "execution_count": null,
   "metadata": {},
   "outputs": [],
   "source": [
    "ax[0,1].plot([0,1],[1,4])"
   ]
  },
  {
   "cell_type": "code",
   "execution_count": null,
   "metadata": {},
   "outputs": [],
   "source": [
    "data_frames"
   ]
  },
  {
   "cell_type": "code",
   "execution_count": null,
   "metadata": {},
   "outputs": [],
   "source": [
    "ax"
   ]
  },
  {
   "cell_type": "code",
   "execution_count": null,
   "metadata": {},
   "outputs": [],
   "source": [
    "abs(-3)"
   ]
  },
  {
   "cell_type": "code",
   "execution_count": null,
   "metadata": {},
   "outputs": [],
   "source": [
    "abs([4,5])"
   ]
  },
  {
   "cell_type": "code",
   "execution_count": null,
   "metadata": {},
   "outputs": [],
   "source": [
    "j"
   ]
  },
  {
   "cell_type": "code",
   "execution_count": null,
   "metadata": {},
   "outputs": [],
   "source": []
  }
 ],
 "metadata": {
  "interpreter": {
   "hash": "12ad611148829111e6a38c7e1875f7596226fe9fda7952143486bdc879548fe0"
  },
  "kernelspec": {
   "display_name": "Python 3.9.12 ('SVR_Monai')",
   "language": "python",
   "name": "python3"
  },
  "language_info": {
   "codemirror_mode": {
    "name": "ipython",
    "version": 3
   },
   "file_extension": ".py",
   "mimetype": "text/x-python",
   "name": "python",
   "nbconvert_exporter": "python",
   "pygments_lexer": "ipython3",
   "version": "3.9.7"
  }
 },
 "nbformat": 4,
 "nbformat_minor": 2
}
