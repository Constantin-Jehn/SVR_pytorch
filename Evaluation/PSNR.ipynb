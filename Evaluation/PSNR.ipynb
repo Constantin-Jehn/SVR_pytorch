{
 "cells": [
  {
   "cell_type": "code",
   "execution_count": null,
   "metadata": {},
   "outputs": [],
   "source": [
    "import torch as t\n",
    "import monai\n",
    "from monai.transforms import (\n",
    "    AddChanneld,\n",
    "    LoadImaged,\n",
    "    ToTensord,\n",
    ")\n",
    "import torchio as tio\n",
    "import torchmetrics as tm"
   ]
  },
  {
   "cell_type": "code",
   "execution_count": null,
   "metadata": {},
   "outputs": [],
   "source": [
    "tio_cyle = tio.ScalarImage(\"CycleGAN/2_CycleGAN_i.nii.gz\")\n",
    "tio_svrtk = tio.ScalarImage(\"SVRTK/2_label.nii.gz\")"
   ]
  },
  {
   "cell_type": "code",
   "execution_count": null,
   "metadata": {},
   "outputs": [],
   "source": [
    "resampler = tio.Resample(tio_cyle,image_interpolation=\"welch\")\n",
    "tio_svrtk_resampled = resampler(tio_svrtk)"
   ]
  },
  {
   "cell_type": "code",
   "execution_count": null,
   "metadata": {},
   "outputs": [],
   "source": [
    "print(f'Cycle shape:{tio_cyle.data.shape} Cycle affine:{tio_cyle.affine}')\n",
    "print(f'SVRTK shape:{tio_svrtk_resampled.data.shape} SVRTK affine: {tio_svrtk_resampled.affine}')\n",
    "print(f'Affines match: {t.all(t.tensor(tio_cyle.affine == tio_svrtk_resampled.affine))}')"
   ]
  },
  {
   "cell_type": "code",
   "execution_count": null,
   "metadata": {},
   "outputs": [],
   "source": [
    "def normalize_to_unit_interval(tio_image:tio.ScalarImage):\n",
    "    min_val, max_val = t.min(tio_image.data), t.max(tio_image.data)\n",
    "    range_val = max_val - min_val\n",
    "    norm_data = t.div((tio_image.data - min_val), range_val)\n",
    "    tio_image.set_data(norm_data)\n",
    "    return tio_image"
   ]
  },
  {
   "cell_type": "code",
   "execution_count": null,
   "metadata": {},
   "outputs": [],
   "source": [
    "tio_cyle, tio_svrtk_resampled = normalize_to_unit_interval(tio_cyle), normalize_to_unit_interval(tio_svrtk_resampled)"
   ]
  },
  {
   "cell_type": "code",
   "execution_count": null,
   "metadata": {},
   "outputs": [],
   "source": [
    "tio_cyle.save(\"CycleGAN.nii.gz\")\n",
    "tio_svrtk_resampled.save(\"SVRTK_resampled.nii.gz\")"
   ]
  },
  {
   "cell_type": "code",
   "execution_count": null,
   "metadata": {},
   "outputs": [],
   "source": [
    "def load_monai(file):\n",
    "    loader = LoadImaged(keys=[\"image\"])\n",
    "    stack_dict = {\"image\": file}\n",
    "    stack_dict = loader(stack_dict)\n",
    "    return stack_dict"
   ]
  },
  {
   "cell_type": "code",
   "execution_count": null,
   "metadata": {},
   "outputs": [],
   "source": [
    "monai_cycle = load_monai(\"CycleGAN.nii.gz\")\n",
    "monai_svrtk = load_monai(\"SVRTK_resampled.nii.gz\")"
   ]
  },
  {
   "cell_type": "code",
   "execution_count": null,
   "metadata": {},
   "outputs": [],
   "source": [
    "tm_ssim = tm.StructuralSimilarityIndexMeasure(kernel_size=99, reduction='sum')\n",
    "monai_psnr = monai.metrics.PSNRMetric(1.0)"
   ]
  },
  {
   "cell_type": "code",
   "execution_count": null,
   "metadata": {},
   "outputs": [],
   "source": [
    "cycle_tens,svrtk_tens = tio_cyle.data.float(),tio_svrtk_resampled.data.float()\n",
    "cycle_tens.shape\n"
   ]
  },
  {
   "cell_type": "code",
   "execution_count": null,
   "metadata": {},
   "outputs": [],
   "source": [
    "ssim = tm_ssim(svrtk_tens, cycle_tens)"
   ]
  },
  {
   "cell_type": "code",
   "execution_count": null,
   "metadata": {},
   "outputs": [],
   "source": [
    "monai_psnr(cycle_tens,svrtk_tens)"
   ]
  },
  {
   "cell_type": "code",
   "execution_count": null,
   "metadata": {},
   "outputs": [],
   "source": [
    "ssim"
   ]
  },
  {
   "cell_type": "code",
   "execution_count": null,
   "metadata": {},
   "outputs": [],
   "source": []
  }
 ],
 "metadata": {
  "interpreter": {
   "hash": "df57fb2011fe0677c52ead08c38db10ec9ae0632224e1588dff526d5ca373fd3"
  },
  "kernelspec": {
   "display_name": "Python 3.9.7 ('base')",
   "language": "python",
   "name": "python3"
  },
  "language_info": {
   "codemirror_mode": {
    "name": "ipython",
    "version": 3
   },
   "file_extension": ".py",
   "mimetype": "text/x-python",
   "name": "python",
   "nbconvert_exporter": "python",
   "pygments_lexer": "ipython3",
   "version": "3.9.12"
  }
 },
 "nbformat": 4,
 "nbformat_minor": 2
}
