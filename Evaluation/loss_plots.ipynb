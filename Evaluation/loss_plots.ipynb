{
 "cells": [
  {
   "cell_type": "code",
   "execution_count": null,
   "metadata": {},
   "outputs": [],
   "source": [
    "import numpy as np\n",
    "import csv\n",
    "import matplotlib.pyplot as plt\n",
    "import pandas"
   ]
  },
  {
   "cell_type": "code",
   "execution_count": null,
   "metadata": {},
   "outputs": [],
   "source": [
    "def substring_after(s:str, delim:str):\n",
    "    return s.partition(delim)[2]"
   ]
  },
  {
   "cell_type": "code",
   "execution_count": null,
   "metadata": {},
   "outputs": [],
   "source": [
    "D_A, D_B, G_A, G_B = [],[],[],[]"
   ]
  },
  {
   "cell_type": "code",
   "execution_count": null,
   "metadata": {},
   "outputs": [],
   "source": [
    "with open ('loss_log.txt') as f:\n",
    "    for line in f:\n",
    "        epoch = substring_after(line, \"epoch: \")[:3]\n",
    "        float_D_A = substring_after(line, \"D_A: \")[:5]\n",
    "        float_D_B = substring_after(line, \"D_B: \")[:5]\n",
    "        float_G_A = substring_after(line, \"G_A: \")[:5]\n",
    "        float_G_B = substring_after(line, \"G_B: \")[:5]\n",
    "        if len(float_D_A) > 0:\n",
    "            if epoch == epoch_prev:\n",
    "                D_A[-1] = (float(float_D_A))\n",
    "                D_B[-1] = float(float_D_B)\n",
    "                G_A[-1] = float(float_G_A)\n",
    "                G_B[-1] = float(float_G_B)\n",
    "            else:\n",
    "                D_A.append(float(float_D_A))\n",
    "                D_B.append(float(float_D_B))\n",
    "                G_A.append(float(float_G_A))\n",
    "                G_B.append(float(float_G_B))\n",
    "                \n",
    "        epoch_prev = epoch"
   ]
  },
  {
   "cell_type": "code",
   "execution_count": null,
   "metadata": {},
   "outputs": [],
   "source": [
    "dt = 1\n",
    "epochs = np.arange(0,200,dt)"
   ]
  },
  {
   "cell_type": "code",
   "execution_count": null,
   "metadata": {},
   "outputs": [],
   "source": [
    "def moving_average(x, w):\n",
    "    x = np.append(x[:w-1],x)\n",
    "    return np.convolve(x, np.ones(w), 'valid') / w"
   ]
  },
  {
   "cell_type": "code",
   "execution_count": null,
   "metadata": {},
   "outputs": [],
   "source": [
    "D_A, D_B, G_A, G_B = np.array(D_A), np.array(D_B), np.array(G_A), np.array(G_B)\n",
    "window = 7\n",
    "D_A_ma, D_B_ma, G_A_ma, G_B_ma = moving_average(D_A, window), moving_average(D_B, window), moving_average(G_A, window), moving_average(G_B, window)"
   ]
  },
  {
   "cell_type": "code",
   "execution_count": null,
   "metadata": {},
   "outputs": [],
   "source": [
    "plt.style.use('seaborn-whitegrid')\n",
    "fig, axs = plt.subplots(2, 1)\n",
    "axs[0].set_title('CycleGAN training', fontsize = 18)\n",
    "axs[0].plot(epochs, D_A, color='xkcd:burnt red', label = r'raw $D_X$', linewidth = 0.7)\n",
    "D_A_ma_line, = axs[0].plot(epochs, D_A_ma, color='xkcd:burnt red', label = r'moving avg. $D_X$', linewidth = 2)\n",
    "#D_A_ma_line.set_dashes([2,2,8,2])\n",
    "axs[0].plot(epochs, D_B, color='xkcd:slate grey', label = r'raw $D_Y$', linewidth = 0.7)\n",
    "D_B_ma_line, = axs[0].plot(epochs, D_B_ma, color='xkcd:slate grey', label = r'moving avg. $D_Y$', linewidth = 2)\n",
    "axs[0].set_ylim(0.25, 1.4)\n",
    "axs[0].set_ylabel('Loss', fontsize = 16)\n",
    "axs[0].tick_params(axis='both', labelsize=13)\n",
    "axs[0].legend(fontsize = 16)\n",
    "\n",
    "axs[1].plot(epochs, G_A, color='xkcd:dusty green', label = r'raw $G$', linewidth = 0.7)\n",
    "axs[1].plot(epochs, G_A_ma, color='xkcd:dusty green', label = r'moving avg. $G$', linewidth = 2)\n",
    "axs[1].plot(epochs, G_B, color='xkcd:slate grey', label = r'raw $F$', linewidth = 0.7)\n",
    "axs[1].plot(epochs, G_B_ma, color='xkcd:slate grey', label = r'moving avg. $F$', linewidth = 2)\n",
    "axs[1].set_ylim(0,1.8)\n",
    "axs[1].set_ylabel('Loss', fontsize = 16)\n",
    "axs[1].tick_params(axis='both', labelsize=13)\n",
    "axs[1].set_xlabel('epoch',fontsize = 16)\n",
    "axs[1].legend(fontsize = 16)\n",
    "\n",
    "fig.set_size_inches(12.5,10.5)\n",
    "plt.show()\n"
   ]
  },
  {
   "cell_type": "code",
   "execution_count": null,
   "metadata": {},
   "outputs": [],
   "source": [
    "len(D_A_ma)"
   ]
  },
  {
   "cell_type": "code",
   "execution_count": null,
   "metadata": {},
   "outputs": [],
   "source": []
  }
 ],
 "metadata": {
  "interpreter": {
   "hash": "12ad611148829111e6a38c7e1875f7596226fe9fda7952143486bdc879548fe0"
  },
  "kernelspec": {
   "display_name": "Python 3.9.12 ('SVR_Monai')",
   "language": "python",
   "name": "python3"
  },
  "language_info": {
   "codemirror_mode": {
    "name": "ipython",
    "version": 3
   },
   "file_extension": ".py",
   "mimetype": "text/x-python",
   "name": "python",
   "nbconvert_exporter": "python",
   "pygments_lexer": "ipython3",
   "version": "3.9.12"
  }
 },
 "nbformat": 4,
 "nbformat_minor": 2
}
