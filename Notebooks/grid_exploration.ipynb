{
 "cells": [
  {
   "cell_type": "code",
   "execution_count": null,
   "metadata": {},
   "outputs": [],
   "source": [
    "from torch.nn.functional import affine_grid\n",
    "import monai\n",
    "from monai.transforms import (\n",
    "    AddChanneld,\n",
    "    LoadImaged,\n",
    "    ToTensord,\n",
    ")\n",
    "import torch as t\n",
    "from copy import deepcopy\n",
    "import torchio as tio\n",
    "import numpy as np"
   ]
  },
  {
   "cell_type": "code",
   "execution_count": null,
   "metadata": {},
   "outputs": [],
   "source": [
    "path = \"sample_data/10_3T_nody_002.nii.gz\"\n",
    "add_channel = AddChanneld(keys=[\"image\"])\n",
    "loader = LoadImaged(keys=[\"image\"])\n",
    "to_tensor = ToTensord(keys=[\"image\"])\n",
    "monai_dict = {\"image\": path}\n",
    "monai_image_layer = loader(monai_dict)\n",
    "monai_image_layer = add_channel(add_channel(monai_image_layer))\n",
    "monai_image_layer = to_tensor(monai_image_layer)"
   ]
  },
  {
   "cell_type": "code",
   "execution_count": null,
   "metadata": {},
   "outputs": [],
   "source": [
    "image_tensor = monai_image_layer[\"image\"]\n",
    "input_2d = image_tensor[:,:,:,:,12]\n",
    "input_2d.shape"
   ]
  },
  {
   "cell_type": "code",
   "execution_count": null,
   "metadata": {},
   "outputs": [],
   "source": [
    "theta = t.eye(3)[:2,:].unsqueeze(0)\n",
    "theta[0,0,2] = 1\n",
    "size = input_2d.shape\n",
    "align_corners = False\n",
    "grid = affine_grid(theta,size, align_corners=align_corners)"
   ]
  },
  {
   "cell_type": "code",
   "execution_count": null,
   "metadata": {},
   "outputs": [],
   "source": [
    "output_2d = monai.networks.layers.grid_pull(input_2d,grid,interpolation = 'cubic', bound = \"zero\", extrapolate = False)"
   ]
  },
  {
   "cell_type": "code",
   "execution_count": null,
   "metadata": {},
   "outputs": [],
   "source": [
    "theta.shape"
   ]
  },
  {
   "cell_type": "code",
   "execution_count": null,
   "metadata": {},
   "outputs": [],
   "source": [
    "gaussain_smoother = monai.transforms.GaussianSmooth(sigma=0.2)\n",
    "\n",
    "golay_filter = monai.transforms.SavitzkyGolaySmooth(4, 4, axis=1, mode='zeros')\n",
    "\n",
    "tio_image = tio.Image(\"10_3T_nody_002.nii.gz\")\n",
    "smoothed_tensor = golay_filter(tio_image.tensor)\n",
    "tio_smoothed = tio.Image(tensor=smoothed_tensor, affine=tio_image.affine)"
   ]
  }
 ],
 "metadata": {
  "interpreter": {
   "hash": "8b9fc516264676d6f652a0b2b5db69df6b013767801d59bb4d1447f6260ab1e3"
  },
  "kernelspec": {
   "display_name": "Python 3.9.7 ('SVR_pytorch')",
   "language": "python",
   "name": "python3"
  },
  "language_info": {
   "codemirror_mode": {
    "name": "ipython",
    "version": 3
   },
   "file_extension": ".py",
   "mimetype": "text/x-python",
   "name": "python",
   "nbconvert_exporter": "python",
   "pygments_lexer": "ipython3",
   "version": "3.9.7"
  }
 },
 "nbformat": 4,
 "nbformat_minor": 2
}
