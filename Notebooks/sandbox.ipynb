{
 "cells": [
  {
   "cell_type": "code",
   "execution_count": null,
   "id": "891d5b04",
   "metadata": {},
   "outputs": [],
   "source": [
    "import torchio as tio\n",
    "import monai\n",
    "from monai.transforms import (\n",
    "    AddChanneld,\n",
    "    LoadImage,\n",
    "    LoadImaged,\n",
    "    Orientationd,\n",
    "    Rand3DElasticd,\n",
    "    RandAffined,\n",
    "    Spacingd,\n",
    "    ToTensord,\n",
    "    RandAffine\n",
    ")\n",
    "import torchvision as tv\n",
    "import os\n",
    "import numpy as np\n",
    "import torch as t\n",
    "from copy import deepcopy\n",
    "import matplotlib.pyplot as plt\n",
    "import SimpleITK as sitk"
   ]
  },
  {
   "cell_type": "code",
   "execution_count": null,
   "id": "f8eb77cb",
   "metadata": {},
   "outputs": [],
   "source": [
    "pixdim = (2.0,2.0,2.0)\n",
    "\n",
    "src_folder = \"sample_data\"\n",
    "prep_folder = \"cropped_images\"\n",
    "src_folder = \"sample_data\"\n",
    "result_folder = os.path.join(\"results\",\"two_stacks_first_outlier_removal\")\n",
    "\n",
    "stack_filenames = [\"10_3T_nody_001.nii.gz\",\n",
    "                \n",
    "                \"14_3T_nody_001.nii.gz\",\n",
    "                \n",
    "                \"21_3T_nody_001.nii.gz\",\n",
    "                \n",
    "                \"23_3T_nody_001.nii.gz\"]\n",
    "device = \"cpu\"\n",
    "mask_filename = \"mask_10_3T_brain_smooth.nii.gz\"\n",
    "mode =  \"bilinear\"\n",
    "tio_mode = \"welch\"\n",
    "\n",
    "svr_preprocessor = Preprocesser(src_folder, prep_folder, result_folder, stack_filenames, mask_filename, device, mode, tio_mode=tio_mode)\n",
    "        \n",
    "fixed_images, stacks = svr_preprocessor.preprocess_stacks_and_common_vol(pixdim)\n",
    "\n",
    "#tio_image = svr_preprocessor.monai_to_torchio(stacks[0])"
   ]
  },
  {
   "cell_type": "code",
   "execution_count": null,
   "id": "da6ef147",
   "metadata": {},
   "outputs": [],
   "source": []
  },
  {
   "cell_type": "code",
   "execution_count": null,
   "id": "83b8afc9",
   "metadata": {},
   "outputs": [],
   "source": [
    "stacks = svr_preprocessor.load_stacks()\n",
    "tio_image = tio.Image(\"cropped_images/10_3T_nody_001.nii.gz\")\n",
    "monai_image = stacks[0]"
   ]
  },
  {
   "cell_type": "code",
   "execution_count": null,
   "id": "3126ece4",
   "metadata": {},
   "outputs": [],
   "source": [
    "model = custom_models.Volume_to_Slice(5,'cpu')\n",
    "\n",
    "transaltions = [[0,0,0],[1,1,0],[2,1,2]]\n",
    "rotations = [[t.pi/8, 0 ,0],[0,t.pi/2,0],[0,-t.pi/4,t.pi/8]]\n",
    "\n",
    "affines = list()\n",
    "\n",
    "for i in range(0,3):\n",
    "    rotation_tensor = monai.transforms.utils.create_rotate(3, rotations[i],backend='torch')\n",
    "    translation_tensor = monai.transforms.utils.create_translate(3, transaltions[i],backend='torch')\n",
    "    affines.append (t.matmul(translation_tensor,rotation_tensor))"
   ]
  },
  {
   "cell_type": "code",
   "execution_count": null,
   "id": "e452d44e",
   "metadata": {},
   "outputs": [],
   "source": [
    "tuple(np.array(rotations[0])*2*np.pi)"
   ]
  },
  {
   "cell_type": "code",
   "execution_count": null,
   "id": "4c67bd79",
   "metadata": {},
   "outputs": [],
   "source": [
    "rot_deg = np.array(rotations[0]) * 180 / np.pi\n",
    "tio_rotations = (rot_deg[0], rot_deg[1], rot_deg[2])\n",
    "\n",
    "tio_aff = tio.Affine(1,tio_rotations,tuple(np.array(transaltions[0])),center=\"image\",default_pad_value=0.0)\n",
    "\n",
    "tio_trans = tio_aff(tio_image)\n",
    "\n",
    "\n",
    "monai_aff = monai.transforms.Affine()\n",
    "monai_aff = monai.networks.layers.AffineTransform(mode = \"bilinear\",  normalized = True, align_corners= False, padding_mode = \"zeros\")\n",
    "#monai_Rot = monai.transforms(Rotat)"
   ]
  },
  {
   "cell_type": "code",
   "execution_count": null,
   "id": "c5e9f5ad",
   "metadata": {},
   "outputs": [],
   "source": [
    "tio_trans = tio_aff(tio_image)\n",
    "monai_trans = monai_image\n",
    "monai_trans[\"image\"] = monai_aff(monai_image[\"image\"].unsqueeze(0),t.tensor(affines[0]).unsqueeze(0))\n",
    "\n",
    "monai_trans[\"image\"] = monai_trans[\"image\"].squeeze().unsqueeze(0)"
   ]
  },
  {
   "cell_type": "code",
   "execution_count": null,
   "id": "8f5eaefd",
   "metadata": {},
   "outputs": [],
   "source": [
    "monai_aff = monai.transforms.Affine(affine=affines[0], norm_coords = True, image_only = True)\n",
    "monai_trans = monai_image\n",
    "monai_trans[\"image\"] = monai_aff(monai_image[\"image\"])"
   ]
  },
  {
   "cell_type": "code",
   "execution_count": null,
   "id": "06faac65",
   "metadata": {},
   "outputs": [],
   "source": [
    "tio_trans.save('tests/tio_transformed.nii.gz')"
   ]
  },
  {
   "cell_type": "code",
   "execution_count": null,
   "id": "06220128",
   "metadata": {},
   "outputs": [],
   "source": [
    "nifti_saver = monai.data.NiftiSaver(output_dir=\"tests\",\n",
    "                                            resample=False, padding_mode=\"zeros\",\n",
    "                                            separate_folder=False)\n",
    "nifti_saver.save(monai_trans[\"image\"],monai_trans[\"image_meta_dict\"])"
   ]
  },
  {
   "cell_type": "code",
   "execution_count": null,
   "id": "938c3b79",
   "metadata": {},
   "outputs": [],
   "source": [
    "monai_trans[\"image\"].shape"
   ]
  },
  {
   "cell_type": "code",
   "execution_count": null,
   "id": "6c8efc10",
   "metadata": {},
   "outputs": [],
   "source": [
    "colin = tio.datasets.Colin27().t1\n",
    "colin.plot()"
   ]
  },
  {
   "cell_type": "code",
   "execution_count": null,
   "id": "02c60f03",
   "metadata": {},
   "outputs": [],
   "source": [
    "monai_image[\"image_meta_dict\"][\"affine\"]"
   ]
  },
  {
   "cell_type": "code",
   "execution_count": null,
   "id": "f713b399",
   "metadata": {},
   "outputs": [],
   "source": [
    "look_up = tio.Affine(1, (45, 0, 0), (0,0,10),image_interpolation=\"welch\")\n",
    "colin_looking_up = look_up(colin)\n",
    "colin_looking_up.plot()\n"
   ]
  },
  {
   "cell_type": "code",
   "execution_count": null,
   "id": "59d587fc",
   "metadata": {},
   "outputs": [],
   "source": [
    "colin"
   ]
  },
  {
   "cell_type": "code",
   "execution_count": null,
   "id": "a6dcf7da",
   "metadata": {},
   "outputs": [],
   "source": [
    "sitk_img = tio_image.as_sitk()"
   ]
  },
  {
   "cell_type": "code",
   "execution_count": null,
   "id": "594a20f0",
   "metadata": {},
   "outputs": [],
   "source": [
    "affine_matr = t.eye(4)\n",
    "sitk_transformed = sitk_affine_transform(tio_image,affine_matr)"
   ]
  },
  {
   "cell_type": "code",
   "execution_count": null,
   "id": "fef7d2b0",
   "metadata": {},
   "outputs": [],
   "source": [
    "rotation_center = (100, 100, 100)\n",
    "axis = (0,0,1)\n",
    "angle = np.pi/2.0\n",
    "translation = (1,2,3)\n",
    "scale_factor = 2.0\n",
    "similarity = sitk.Similarity3DTransform(scale_factor, axis, angle, translation, rotation_center)\n",
    "\n",
    "affine = sitk.AffineTransform(3)\n",
    "affine.SetMatrix(similarity.GetMatrix())\n",
    "affine.SetTranslation(similarity.GetTranslation())\n",
    "affine.SetCenter(similarity.GetCenter())\n",
    "\n",
    "# Apply the transformations to the same set of random points and compare the results."
   ]
  },
  {
   "cell_type": "code",
   "execution_count": null,
   "id": "300d81f3",
   "metadata": {},
   "outputs": [],
   "source": [
    "def sitk_affine_transform(tio_image:tio.Image, affine_matr:t.tensor)->t.tensor:\n",
    "    sitk_image = tio_image.as_sitk()\n",
    "\n",
    "    rotation = affine_matr[:3,:3].ravel().tolist()\n",
    "    translation = affine_matr[:3,3].tolist()\n",
    "    affine = sitk.AffineTransform(rotation,translation)\n",
    "\n",
    "    reference_image = sitk_image\n",
    "    interpolator = sitk.sitkWelchWindowedSinc\n",
    "    default_value = 0\n",
    "\n",
    "    resampled =  sitk.Resample(sitk_image,reference_image,affine,interpolator,default_value)\n",
    "\n",
    "    tensor = t.permute(t.tensor(sitk.GetArrayFromImage(resampled)),(2,1,0))\n",
    "\n",
    "    tensor = tensor.unsqueeze(0)\n",
    "    return tensor"
   ]
  },
  {
   "cell_type": "code",
   "execution_count": null,
   "id": "7a4fd26c",
   "metadata": {},
   "outputs": [],
   "source": [
    "import scipy\n",
    "kernel_size = 7\n",
    "\n",
    "kernel_template = np.zeros((kernel_size,kernel_size,kernel_size))\n",
    "kernel_center = int(np.floor(kernel_size/2))\n"
   ]
  },
  {
   "cell_type": "code",
   "execution_count": null,
   "id": "75f7b59a",
   "metadata": {},
   "outputs": [],
   "source": [
    "kernel_template[kernel_center,kernel_center,kernel_center] = 1 \n"
   ]
  },
  {
   "cell_type": "code",
   "execution_count": null,
   "id": "f9aec110",
   "metadata": {},
   "outputs": [],
   "source": [
    "init_kernel = scipy.ndimage.gaussian_filter(kernel_template,sigma=1.5)"
   ]
  },
  {
   "cell_type": "code",
   "execution_count": null,
   "id": "f6e65431",
   "metadata": {},
   "outputs": [],
   "source": [
    "fig = plt.figure()\n",
    "plt.imshow(init_kernel[:,0,:], label = \"value\")\n",
    "fig.legend()\n"
   ]
  },
  {
   "cell_type": "code",
   "execution_count": null,
   "id": "f8c00ac3",
   "metadata": {},
   "outputs": [],
   "source": [
    "init_kernel[:,4,:] < init_kernel[3,:,:]"
   ]
  },
  {
   "cell_type": "code",
   "execution_count": null,
   "id": "1491ab37",
   "metadata": {},
   "outputs": [],
   "source": [
    "class PSF(t.nn.Module):\n",
    "    def __init__(self, kernel_size) -> None:\n",
    "        super().__init__()\n",
    "        padding = np.floor(kernel_size/2)\n",
    "        self.conv3d = t.nn.Conv3d(1,1, kernel_size, stride = 1, padding = padding)\n",
    "        #self.weights_init(kernel_size)\n",
    "    \n",
    "    def forward(self,x):\n",
    "        return self.conv3d(x)\n",
    "\n",
    "    def weights_init(self, kernel_size):\n",
    "        kernel_template = np.zeros((kernel_size,kernel_size,kernel_size))\n",
    "        kernel_center = int(np.floor(kernel_size/2))\n",
    "        print(kernel_center)\n",
    "        kernel_template[kernel_center,kernel_center,kernel_center] = 1 \n",
    "        init_kernel = scipy.ndimage.gaussian_filter(kernel_template,sigma=1.5)\n",
    "        for _, f in self.conv3d.named_parameters():\n",
    "            f.data.copy_(t.from_numpy(init_kernel).unsqueeze(0).unsqueeze(0))"
   ]
  },
  {
   "cell_type": "code",
   "execution_count": null,
   "id": "99c88ae0",
   "metadata": {},
   "outputs": [],
   "source": [
    "psf = PSF(3)"
   ]
  },
  {
   "cell_type": "code",
   "execution_count": null,
   "id": "3a9d458f",
   "metadata": {},
   "outputs": [],
   "source": [
    "test = t.zeros((5,5,5))\n",
    "test[3,3,3] = 1\n",
    "test = test.unsqueeze(0).unsqueeze(0).unsqueeze(0)\n",
    "test.shape"
   ]
  },
  {
   "cell_type": "code",
   "execution_count": null,
   "id": "743f7100",
   "metadata": {},
   "outputs": [],
   "source": [
    "test = t.randn(1,1,10,12,12)\n",
    "out = psf(test)"
   ]
  },
  {
   "cell_type": "code",
   "execution_count": null,
   "id": "70f2af74",
   "metadata": {},
   "outputs": [],
   "source": [
    "psf.conv3d(test)"
   ]
  },
  {
   "cell_type": "code",
   "execution_count": null,
   "id": "b7d69d7b",
   "metadata": {},
   "outputs": [],
   "source": [
    "padding = 1\n",
    "conv = t.nn.Conv3d(1,1, kernel_size, stride = 1, padding = padding)\n",
    "out = conv(t.randn(1,1,10,12,12))"
   ]
  },
  {
   "cell_type": "code",
   "execution_count": null,
   "id": "8ab4660e",
   "metadata": {},
   "outputs": [],
   "source": [
    "def weights_init(conv_layer, kernel_size):\n",
    "    kernel_template = np.zeros((kernel_size,kernel_size,kernel_size))\n",
    "    kernel_center = int(np.floor(kernel_size/2))\n",
    "    print(kernel_center)\n",
    "    kernel_template[kernel_center,kernel_center,kernel_center] = 1 \n",
    "    init_kernel = scipy.ndimage.gaussian_filter(kernel_template,sigma=1.5)\n",
    "    for _, f in conv_layer.named_parameters():\n",
    "        f.data.copy_(t.from_numpy(init_kernel).unsqueeze(0).unsqueeze(0))\n",
    "    return conv_layer"
   ]
  },
  {
   "cell_type": "code",
   "execution_count": null,
   "id": "6adf112b",
   "metadata": {},
   "outputs": [],
   "source": [
    "kernel_size = 5\n",
    "padding = 2\n",
    "conv = t.nn.Conv3d(1,1, kernel_size, stride = 1, padding = padding)\n",
    "conv_init = weights_init(conv, kernel_size)"
   ]
  },
  {
   "cell_type": "code",
   "execution_count": null,
   "id": "c6bfe84c",
   "metadata": {},
   "outputs": [],
   "source": [
    "test = t.randn(1,1,7,7,7)\n",
    "out = conv_init(test)"
   ]
  },
  {
   "cell_type": "code",
   "execution_count": null,
   "id": "fcf1b3f9",
   "metadata": {},
   "outputs": [],
   "source": []
  }
 ],
 "metadata": {
  "interpreter": {
   "hash": "df57fb2011fe0677c52ead08c38db10ec9ae0632224e1588dff526d5ca373fd3"
  },
  "kernelspec": {
   "display_name": "Python 3.8.8 64-bit ('base': conda)",
   "language": "python",
   "name": "python3"
  },
  "language_info": {
   "codemirror_mode": {
    "name": "ipython",
    "version": 3
   },
   "file_extension": ".py",
   "mimetype": "text/x-python",
   "name": "python",
   "nbconvert_exporter": "python",
   "pygments_lexer": "ipython3",
   "version": "3.9.12"
  }
 },
 "nbformat": 4,
 "nbformat_minor": 5
}
