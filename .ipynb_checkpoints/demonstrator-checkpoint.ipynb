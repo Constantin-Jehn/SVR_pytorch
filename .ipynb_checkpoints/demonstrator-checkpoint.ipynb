{
 "cells": [
  {
   "cell_type": "code",
   "execution_count": 1,
   "id": "76c9873e",
   "metadata": {},
   "outputs": [],
   "source": [
    "import data\n",
    "import stack\n",
    "import transformations as trans\n",
    "import nibabel as nib\n",
    "import torch as t\n",
    "import os\n",
    "import numpy as np\n",
    "import open3d as o3d\n",
    "import pytorch3d as p3"
   ]
  },
  {
   "cell_type": "code",
   "execution_count": 2,
   "id": "45e04017",
   "metadata": {},
   "outputs": [],
   "source": [
    "filename = \"iFIND00472_iFIND2_201901111210_PHILIPSJ2LF9B9_101_PIH1HR_Survey_32SENSE.s1.nii.gz\"\n",
    "t_image, t_affine = data.nii_to_torch(filename)"
   ]
  },
  {
   "cell_type": "code",
   "execution_count": 3,
   "id": "bdc75ffa",
   "metadata": {},
   "outputs": [],
   "source": [
    "beta = 0.01\n",
    "first_stack = stack.stack(t_image,t_affine, beta)"
   ]
  },
  {
   "cell_type": "code",
   "execution_count": 4,
   "id": "f0b193d2",
   "metadata": {},
   "outputs": [
    {
     "name": "stdout",
     "output_type": "stream",
     "text": [
      "tensor([[1., 0., 0., 0.],\n",
      "        [0., 1., 0., 0.],\n",
      "        [0., 0., 1., 3.],\n",
      "        [0., 0., 0., 1.]])\n",
      "torch.float32\n"
     ]
    }
   ],
   "source": [
    "k = first_stack.T.shape[2]\n",
    "F = first_stack.F()\n",
    "F_inv = first_stack.F_inv()\n",
    "print(first_stack.T[:,:,3])\n",
    "print(F_inv.dtype)"
   ]
  },
  {
   "cell_type": "code",
   "execution_count": 5,
   "id": "05123a48",
   "metadata": {},
   "outputs": [
    {
     "name": "stdout",
     "output_type": "stream",
     "text": [
      "torch.float32\n",
      "tensor([[-304.],\n",
      "        [-304.],\n",
      "        [   2.],\n",
      "        [   1.]])\n",
      "tensor([[575.0695],\n",
      "        [575.0695],\n",
      "        [  0.0000],\n",
      "        [  1.0000]])\n"
     ]
    }
   ],
   "source": [
    "i,j = 575,575\n",
    "k = 0\n",
    "p_s = t.tensor([[i],[j],[0],[1]],dtype=t.float32)\n",
    "print(p_s.dtype)\n",
    "p_r = t.round(t.matmul(F_inv[:,:,k],p_s))\n",
    "p_s_tilde = t.matmul(F[:,:,k],p_r)\n",
    "print(p_r)\n",
    "print(p_s_tilde)"
   ]
  },
  {
   "cell_type": "code",
   "execution_count": 6,
   "id": "6ac3991d",
   "metadata": {},
   "outputs": [
    {
     "name": "stdout",
     "output_type": "stream",
     "text": [
      "(-304.0, -304.0, 2.0)\n"
     ]
    }
   ],
   "source": [
    "I = first_stack.I\n",
    "X = t.zeros_like(I)\n",
    "coord = (p_r[0].item(),p_r[1].item(),p_r[2].item())\n",
    "print(coord)\n",
    "val = X[int(p_r[0].item()), int(p_r[1].item()),int(p_r[2].item())]"
   ]
  },
  {
   "cell_type": "code",
   "execution_count": 10,
   "id": "ffe1a516",
   "metadata": {},
   "outputs": [],
   "source": [
    "for i in range(0,I.shape[0]):\n",
    "    for j in range(0,I.shape[1]):\n",
    "        p_s = t.tensor([[i],[j],[0],[1]],dtype=t.float32)\n",
    "        p_r = t.round(t.matmul(F_inv[:,:,k],p_s))\n",
    "        p_s_tilde = t.matmul(F[:,:,k],p_r)\n",
    "        p_s_diff = (p_s - p_s_tilde)[:3]\n",
    "        X[int(p_r[0].item()), int(p_r[1].item()),int(p_r[2].item())] += stack.PSN_Gauss(p_s_diff) * I[i,j,k]\n",
    "        "
   ]
  },
  {
   "cell_type": "code",
   "execution_count": 14,
   "id": "ed748ccc",
   "metadata": {},
   "outputs": [
    {
     "name": "stdout",
     "output_type": "stream",
     "text": [
      "torch.Size([4, 1])\n",
      "torch.Size([4, 1])\n",
      "torch.Size([4, 1])\n",
      "torch.Size([4, 1])\n",
      "torch.Size([4, 1])\n",
      "torch.Size([4, 1])\n",
      "torch.Size([4, 1])\n",
      "torch.Size([4, 1])\n"
     ]
    }
   ],
   "source": [
    "#p_r_corners = t.zeros(4,1)\n",
    "p_r_corners = t.zeros(4,8)\n",
    "n = 0\n",
    "for k in [0,4]:\n",
    "    for i in [0,I.shape[0]]:\n",
    "        for j in [0,I.shape[1]]:\n",
    "            p_s = t.tensor([[i],[j],[0],[1]],dtype=t.float32)\n",
    "            corner =  t.round(t.matmul(F_inv[:,:,k],p_s))\n",
    "            p_r_corners[:,n] = corner.transpose(0,1)\n",
    "            n+=1"
   ]
  },
  {
   "cell_type": "code",
   "execution_count": 15,
   "id": "803d679f",
   "metadata": {},
   "outputs": [
    {
     "name": "stdout",
     "output_type": "stream",
     "text": [
      "tensor([[ 288.,  288., -305., -305.,  288.,  288., -305., -305.],\n",
      "        [ 288., -305.,  288., -305.,  288., -305.,  288., -305.],\n",
      "        [   2.,    2.,    2.,    2.,    3.,    3.,    3.,    3.],\n",
      "        [   1.,    1.,    1.,    1.,    1.,    1.,    1.,    1.]])\n"
     ]
    }
   ],
   "source": [
    "print(p_r_corners)"
   ]
  },
  {
   "cell_type": "code",
   "execution_count": 20,
   "id": "52519647",
   "metadata": {},
   "outputs": [],
   "source": [
    "x_min, x_max = t.min(p_r_corners[0,:]).item(), t.max(p_r_corners[0,:]).item()\n",
    "y_min, y_max = t.min(p_r_corners[1,:]).item(), t.max(p_r_corners[1,:]).item()\n",
    "z_min, z_max = t.min(p_r_corners[2,:]).item(), t.max(p_r_corners[2,:]).item()"
   ]
  },
  {
   "cell_type": "code",
   "execution_count": 21,
   "id": "f9a87b95",
   "metadata": {},
   "outputs": [
    {
     "name": "stdout",
     "output_type": "stream",
     "text": [
      "-305.0 288.0\n",
      "-305.0 288.0\n",
      "2.0 3.0\n"
     ]
    }
   ],
   "source": [
    "print(x_min, x_max)\n",
    "print(y_min, y_max)\n",
    "print(z_min, z_max)"
   ]
  },
  {
   "cell_type": "code",
   "execution_count": 22,
   "id": "06b7b954",
   "metadata": {},
   "outputs": [],
   "source": [
    "dx, dy, dz = x_max - x_min, y_max - y_min, z_max - z_min"
   ]
  },
  {
   "cell_type": "code",
   "execution_count": 46,
   "id": "4e985177",
   "metadata": {},
   "outputs": [
    {
     "data": {
      "text/plain": [
       "-559.9872"
      ]
     },
     "execution_count": 46,
     "metadata": {},
     "output_type": "execute_result"
    }
   ],
   "source": [
    "volume = t.zeros(576,576,5)"
   ]
  },
  {
   "cell_type": "code",
   "execution_count": 47,
   "id": "270f289f",
   "metadata": {},
   "outputs": [
    {
     "data": {
      "text/plain": [
       "-280.468"
      ]
     },
     "execution_count": 47,
     "metadata": {},
     "output_type": "execute_result"
    }
   ],
   "source": [
    "-559.98 + 279.512qw"
   ]
  },
  {
   "cell_type": "code",
   "execution_count": null,
   "id": "6a5d240d",
   "metadata": {},
   "outputs": [],
   "source": []
  }
 ],
 "metadata": {
  "kernelspec": {
   "display_name": "Python 3.8.8 64-bit ('base': conda)",
   "language": "python",
   "name": "python388jvsc74a57bd0df57fb2011fe0677c52ead08c38db10ec9ae0632224e1588dff526d5ca373fd3"
  },
  "language_info": {
   "codemirror_mode": {
    "name": "ipython",
    "version": 3
   },
   "file_extension": ".py",
   "mimetype": "text/x-python",
   "name": "python",
   "nbconvert_exporter": "python",
   "pygments_lexer": "ipython3",
   "version": "3.9.7"
  }
 },
 "nbformat": 4,
 "nbformat_minor": 5
}
