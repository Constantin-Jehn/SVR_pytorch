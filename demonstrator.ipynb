{
 "cells": [
  {
   "cell_type": "code",
   "execution_count": null,
   "id": "891d5b04",
   "metadata": {},
   "outputs": [],
   "source": [
    "import data\n",
    "import structures\n",
    "import transformations as trans\n",
    "import nibabel as nib\n",
    "import torch as t\n",
    "import os\n",
    "import numpy as np\n",
    "import open3d as o3d\n",
    "import pytorch3d as p3"
   ]
  },
  {
   "cell_type": "markdown",
   "id": "d4e2102d",
   "metadata": {},
   "source": [
    "read nifti format and return image, affine and zooms as torch tensor, show slices (not in world coordinates)"
   ]
  },
  {
   "cell_type": "code",
   "execution_count": null,
   "id": "cb9c5890",
   "metadata": {},
   "outputs": [],
   "source": [
    "filename = \"iFIND00472_iFIND2_201901111210_PHILIPSJ2LF9B9_101_PIH1HR_Survey_32SENSE.s3.nii.gz\"\n",
    "t_image, t_affine, zooms = data.nii_to_torch(filename)\n",
    "data.show_stack(t_image)"
   ]
  },
  {
   "cell_type": "markdown",
   "id": "9e7b68fd",
   "metadata": {},
   "source": [
    "Create stack object"
   ]
  },
  {
   "cell_type": "code",
   "execution_count": null,
   "id": "4e9f665a",
   "metadata": {},
   "outputs": [],
   "source": [
    "t_image_red = t_image[200:400,200:400,:]\n",
    "data.show_stack(t_image_red)"
   ]
  },
  {
   "cell_type": "code",
   "execution_count": null,
   "id": "3c958054",
   "metadata": {},
   "outputs": [],
   "source": [
    "beta = 0.01\n",
    "first_stack = structures.stack(t_image_red,t_affine, beta)"
   ]
  },
  {
   "cell_type": "markdown",
   "id": "19277044",
   "metadata": {},
   "source": [
    "create target volume from desired geometry and the number of voxels in each direction"
   ]
  },
  {
   "cell_type": "code",
   "execution_count": null,
   "id": "2df2f6cf",
   "metadata": {},
   "outputs": [],
   "source": [
    "corners = first_stack.corners()\n",
    "corners"
   ]
  },
  {
   "cell_type": "code",
   "execution_count": null,
   "id": "f93bd239",
   "metadata": {},
   "outputs": [],
   "source": [
    "geometry = corners\n",
    "n_voxels = t.tensor([80,5,80])\n",
    "target = structures.volume(geometry,n_voxels)"
   ]
  },
  {
   "cell_type": "markdown",
   "id": "7f61c58e",
   "metadata": {},
   "source": [
    "create slice and target volume"
   ]
  },
  {
   "cell_type": "code",
   "execution_count": null,
   "id": "0cb462c3",
   "metadata": {},
   "outputs": [],
   "source": [
    "target.register_stack(first_stack)"
   ]
  },
  {
   "cell_type": "code",
   "execution_count": null,
   "id": "d18cf314",
   "metadata": {},
   "outputs": [],
   "source": [
    "nft_img = data.torch_to_nii(target.X, target.affine)\n",
    "filename = 'first_nifti_target_jupyter'\n",
    "data.save_nifti(nft_img,filename)"
   ]
  },
  {
   "cell_type": "code",
   "execution_count": null,
   "id": "0dc457c8",
   "metadata": {},
   "outputs": [],
   "source": [
    "[l_x,l_y,l_z] = geometry[:,0] - geometry[:,1]\n",
    "x_lin, y_lin, z_lin = t.linspace(geometry[0,0],geometry[0,1],n_voxels[0]), t.linspace(geometry[1,0],geometry[1,1], n_voxels[1]), t.linspace(geometry[2,0],geometry[2,1], n_voxels[2])\n",
    "x_grid, y_grid, z_grid = t.meshgrid(x_lin, y_lin, z_lin)\n",
    "#coordinates\n",
    "coordinates = t.stack((t.flatten(x_grid),t.flatten(y_grid),t.flatten(z_grid)),dim = 0)\n",
    "#1 for \"voxel structure\" 0 for initial intensity value\n",
    "add_on = t.tensor([[1],[0]]).repeat(1,coordinates.shape[1])\n",
    "voxels = t.cat((coordinates,add_on),0)"
   ]
  },
  {
   "cell_type": "code",
   "execution_count": null,
   "id": "2c16e9b6",
   "metadata": {},
   "outputs": [],
   "source": [
    "resolution = 9\n",
    "geometry = t.tensor([[0,10],[-20,-5],[10,30]])\n",
    "[l_x,l_y,l_z] = geometry[:,0] - geometry[:,1]"
   ]
  },
  {
   "cell_type": "code",
   "execution_count": null,
   "id": "d974d694",
   "metadata": {},
   "outputs": [],
   "source": [
    "n_voxels = t.ceil(t.abs(t.div(t.tensor([l_x,l_y,l_z]), resolution))).int()\n",
    "x_lin, y_lin, z_lin = t.linspace(geometry[0,0],geometry[0,1],n_voxels[0]), t.linspace(geometry[1,0],geometry[1,1], n_voxels[1]), t.linspace(geometry[2,0],geometry[2,1], n_voxels[2])"
   ]
  },
  {
   "cell_type": "code",
   "execution_count": null,
   "id": "97418485",
   "metadata": {},
   "outputs": [],
   "source": [
    "x_grid, y_grid, z_grid = t.meshgrid(x_lin, y_lin, z_lin)\n",
    "#coordinates\n",
    "coordinates = t.stack((t.flatten(x_grid),t.flatten(y_grid),t.flatten(z_grid)),dim = 0)\n",
    "#1 for \"voxel structure\" 0 for initial intensity value\n",
    "add_on = t.tensor([[1],[0]]).repeat(1,coordinates.shape[1])\n",
    "voxels = t.cat((coordinates,add_on),0)"
   ]
  },
  {
   "cell_type": "code",
   "execution_count": null,
   "id": "1365ddd5",
   "metadata": {},
   "outputs": [],
   "source": [
    "voxels.shape"
   ]
  },
  {
   "cell_type": "code",
   "execution_count": null,
   "id": "dd58ed5e",
   "metadata": {},
   "outputs": [],
   "source": []
  },
  {
   "cell_type": "code",
   "execution_count": null,
   "id": "d21c3a27",
   "metadata": {},
   "outputs": [],
   "source": []
  },
  {
   "cell_type": "code",
   "execution_count": null,
   "id": "855d13c3",
   "metadata": {},
   "outputs": [],
   "source": []
  }
 ],
 "metadata": {
  "kernelspec": {
   "display_name": "Python 3.8.8 64-bit ('base': conda)",
   "language": "python",
   "name": "python388jvsc74a57bd0df57fb2011fe0677c52ead08c38db10ec9ae0632224e1588dff526d5ca373fd3"
  },
  "language_info": {
   "codemirror_mode": {
    "name": "ipython",
    "version": 3
   },
   "file_extension": ".py",
   "mimetype": "text/x-python",
   "name": "python",
   "nbconvert_exporter": "python",
   "pygments_lexer": "ipython3",
   "version": "3.9.7"
  }
 },
 "nbformat": 4,
 "nbformat_minor": 5
}
