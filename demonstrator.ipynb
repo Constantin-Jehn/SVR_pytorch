{
 "cells": [
  {
   "cell_type": "code",
   "execution_count": null,
   "id": "891d5b04",
   "metadata": {},
   "outputs": [],
   "source": [
    "import data\n",
    "import stack\n",
    "import volume\n",
    "import transformations as trans\n",
    "import nibabel as nib\n",
    "import torch as t\n",
    "import os\n",
    "import numpy as np\n",
    "import open3d as o3d\n",
    "import pytorch3d as p3"
   ]
  },
  {
   "cell_type": "markdown",
   "id": "d4e2102d",
   "metadata": {},
   "source": [
    "read nifti format and return image, affine and zooms as torch tensor, show slices (not in world coordinates)"
   ]
  },
  {
   "cell_type": "code",
   "execution_count": null,
   "id": "cb9c5890",
   "metadata": {},
   "outputs": [],
   "source": [
    "folder = \"data\"\n",
    "filename = \"iFIND00472_iFIND2_201901111210_PHILIPSJ2LF9B9_101_PIH1HR_Survey_32SENSE.s3.nii.gz\"\n",
    "t_image, t_affine, zooms = data.nii_to_torch(folder, filename)\n",
    "data.show_stack(t_image)"
   ]
  },
  {
   "cell_type": "markdown",
   "id": "9e7b68fd",
   "metadata": {},
   "source": [
    "Create stack object"
   ]
  },
  {
   "cell_type": "code",
   "execution_count": null,
   "id": "4e9f665a",
   "metadata": {},
   "outputs": [],
   "source": [
    "t_image_red = t_image[200:400,200:400,:]\n",
    "data.show_stack(t_image_red)"
   ]
  },
  {
   "cell_type": "code",
   "execution_count": null,
   "id": "3c958054",
   "metadata": {},
   "outputs": [],
   "source": [
    "beta = 0.01\n",
    "first_stack = stack.stack(t_image_red,t_affine, beta)"
   ]
  },
  {
   "cell_type": "markdown",
   "id": "19277044",
   "metadata": {},
   "source": [
    "create target volume from desired geometry and the number of voxels in each direction"
   ]
  },
  {
   "cell_type": "code",
   "execution_count": null,
   "id": "2df2f6cf",
   "metadata": {},
   "outputs": [],
   "source": [
    "corners = first_stack.corners()\n",
    "corners"
   ]
  },
  {
   "cell_type": "code",
   "execution_count": null,
   "id": "f93bd239",
   "metadata": {},
   "outputs": [],
   "source": [
    "geometry = corners\n",
    "n_voxels = t.tensor([80,5,80])\n",
    "target = volume.volume(geometry,n_voxels)"
   ]
  },
  {
   "cell_type": "markdown",
   "id": "7f61c58e",
   "metadata": {},
   "source": [
    "create slice and target volume"
   ]
  },
  {
   "cell_type": "code",
   "execution_count": null,
   "id": "0cb462c3",
   "metadata": {},
   "outputs": [],
   "source": [
    "target.register_stack(first_stack)"
   ]
  },
  {
   "cell_type": "code",
   "execution_count": null,
   "id": "d18cf314",
   "metadata": {},
   "outputs": [],
   "source": [
    "nft_img = data.torch_to_nii(target.X, target.affine)\n",
    "filename = 'first_nifti_target_jupyter'\n",
    "data.save_nifti(nft_img,filename)"
   ]
  },
  {
   "cell_type": "code",
   "execution_count": null,
   "id": "f03ed1fc",
   "metadata": {},
   "outputs": [],
   "source": [
    "p_s = first_stack.p_s"
   ]
  },
  {
   "cell_type": "code",
   "execution_count": null,
   "id": "01b869b2",
   "metadata": {},
   "outputs": [],
   "source": [
    "p_s.shape"
   ]
  },
  {
   "cell_type": "code",
   "execution_count": null,
   "id": "5962b15e",
   "metadata": {},
   "outputs": [],
   "source": [
    "dim_0, dim_1 = int(t.max(first_stack.p_s[0,:,:]).item() + 1), int(t.max(first_stack.p_s[1,:,:]).item() + 1)\n",
    "I = t.zeros(dim_0, dim_1, p_s.shape[2])\n",
    "for sl in range(0,I.shape[2]):\n",
    "    I[:,:,sl] = first_stack.p_s[4,:,sl].view(dim_0,dim_1)"
   ]
  },
  {
   "cell_type": "code",
   "execution_count": null,
   "id": "88d4ef2d",
   "metadata": {},
   "outputs": [],
   "source": [
    "dim_1"
   ]
  },
  {
   "cell_type": "code",
   "execution_count": null,
   "id": "2b7982f8",
   "metadata": {},
   "outputs": [],
   "source": [
    "first_stack.p_s[:,1000:1005,3]"
   ]
  },
  {
   "cell_type": "code",
   "execution_count": null,
   "id": "7412d665",
   "metadata": {},
   "outputs": [],
   "source": [
    "I[5,2,3]"
   ]
  },
  {
   "cell_type": "code",
   "execution_count": null,
   "id": "639b2806",
   "metadata": {},
   "outputs": [],
   "source": [
    "I_0"
   ]
  }
 ],
 "metadata": {
  "kernelspec": {
   "display_name": "Python 3.8.8 64-bit ('base': conda)",
   "language": "python",
   "name": "python388jvsc74a57bd0df57fb2011fe0677c52ead08c38db10ec9ae0632224e1588dff526d5ca373fd3"
  },
  "language_info": {
   "codemirror_mode": {
    "name": "ipython",
    "version": 3
   },
   "file_extension": ".py",
   "mimetype": "text/x-python",
   "name": "python",
   "nbconvert_exporter": "python",
   "pygments_lexer": "ipython3",
   "version": "3.9.7"
  }
 },
 "nbformat": 4,
 "nbformat_minor": 5
}
