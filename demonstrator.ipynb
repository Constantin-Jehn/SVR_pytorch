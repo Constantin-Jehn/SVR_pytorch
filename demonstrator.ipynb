{
 "cells": [
  {
   "cell_type": "code",
   "execution_count": 42,
   "id": "f908c794",
   "metadata": {},
   "outputs": [],
   "source": [
    "import data\n",
    "import stack\n",
    "import transformations as trans\n",
    "import nibabel as nib\n",
    "import torch as t\n",
    "import os\n",
    "import numpy as np\n",
    "import open3d as o3d\n",
    "import pytorch3d as p3"
   ]
  },
  {
   "cell_type": "code",
   "execution_count": 43,
   "id": "fae64bcc",
   "metadata": {
    "scrolled": true
   },
   "outputs": [],
   "source": [
    "filename = \"iFIND00472_iFIND2_201901111210_PHILIPSJ2LF9B9_101_PIH1HR_Survey_32SENSE.s1.nii.gz\"\n",
    "t_image, t_affine, zooms = data.nii_to_torch(filename)"
   ]
  },
  {
   "cell_type": "code",
   "execution_count": 44,
   "id": "b147e702",
   "metadata": {},
   "outputs": [],
   "source": [
    "beta = 0.01\n",
    "first_stack = stack.stack(t_image,t_affine, beta)"
   ]
  },
  {
   "cell_type": "code",
   "execution_count": 228,
   "id": "8ef7adcf",
   "metadata": {},
   "outputs": [
    {
     "name": "stdout",
     "output_type": "stream",
     "text": [
      "(-303.9285888671875, -303.9285888671875, 2.0)\n"
     ]
    }
   ],
   "source": [
    "I = first_stack.I\n",
    "X = t.zeros_like(I)\n",
    "coord = (p_r[0].item(),p_r[1].item(),p_r[2].item())\n",
    "print(coord)\n",
    "val = X[int(p_r[0].item()), int(p_r[1].item()),int(p_r[2].item())]"
   ]
  },
  {
   "cell_type": "code",
   "execution_count": 10,
   "id": "2d0bc9eb",
   "metadata": {},
   "outputs": [],
   "source": [
    "for i in range(0,I.shape[0]):\n",
    "    for j in range(0,I.shape[1]):\n",
    "        p_s = t.tensor([[i],[j],[0],[1]],dtype=t.float32)\n",
    "        p_r = t.matmul(F_inv[:,:,k],p_s)\n",
    "        p_s_tilde = t.matmul(F[:,:,k],p_r)\n",
    "        p_s_diff = (p_s - p_s_tilde)[:3]\n",
    "        X[int(p_r[0].item()), int(p_r[1].item()),int(p_r[2].item())] += stack.PSN_Gauss(p_s_diff) * I[i,j,k]\n",
    "        "
   ]
  },
  {
   "cell_type": "code",
   "execution_count": 8,
   "id": "7a79743c",
   "metadata": {},
   "outputs": [],
   "source": [
    "#p_r_corners = t.zeros(4,1)\n",
    "p_r_corners = t.zeros(4,8)\n",
    "n = 0\n",
    "for k in [0,4]:\n",
    "    for i in [0,I.shape[0]]:\n",
    "        for j in [0,I.shape[1]]:\n",
    "            p_s = t.tensor([[i],[j],[0],[1]],dtype=t.float32)\n",
    "            corner =  t.matmul(F_inv[:,:,k],p_s)\n",
    "            p_r_corners[:,n] = corner.transpose(0,1)\n",
    "            n+=1"
   ]
  },
  {
   "cell_type": "code",
   "execution_count": 9,
   "id": "a8232956",
   "metadata": {},
   "outputs": [
    {
     "name": "stdout",
     "output_type": "stream",
     "text": [
      "tensor([[ 287.5000,  287.5000, -304.9572, -304.9572,  287.5000,  287.5000,\n",
      "         -304.9572, -304.9572],\n",
      "        [ 287.5000, -304.9572,  287.5000, -304.9572,  287.5000, -304.9572,\n",
      "          287.5000, -304.9572],\n",
      "        [   2.0000,    2.0000,    2.0000,    2.0000,    2.9091,    2.9091,\n",
      "            2.9091,    2.9091],\n",
      "        [   1.0000,    1.0000,    1.0000,    1.0000,    1.0000,    1.0000,\n",
      "            1.0000,    1.0000]])\n"
     ]
    }
   ],
   "source": [
    "print(p_r_corners)"
   ]
  },
  {
   "cell_type": "code",
   "execution_count": 26,
   "id": "4677a3a2",
   "metadata": {},
   "outputs": [],
   "source": [
    "x_min, x_max = t.min(p_r_corners[0,:]).item(), t.max(p_r_corners[0,:]).item()\n",
    "y_min, y_max = t.min(p_r_corners[1,:]).item(), t.max(p_r_corners[1,:]).item()\n",
    "z_min, z_max = t.min(p_r_corners[2,:]).item(), t.max(p_r_corners[2,:]).item()\n",
    "geom_dim = t.tensor([[x_min, x_max],[y_min, y_max],[z_min, z_max]])"
   ]
  },
  {
   "cell_type": "code",
   "execution_count": 20,
   "id": "03bc83f4",
   "metadata": {},
   "outputs": [
    {
     "name": "stdout",
     "output_type": "stream",
     "text": [
      "tensor(592.4572)\n",
      "tensor(592.4572)\n",
      "tensor(1.1364)\n"
     ]
    }
   ],
   "source": [
    "dx = I.shape[0]/zooms[0]\n",
    "dy = I.shape[1]/zooms[1]\n",
    "dz = I.shape[2]/zooms[2]"
   ]
  },
  {
   "cell_type": "code",
   "execution_count": 13,
   "id": "057e1db9",
   "metadata": {},
   "outputs": [
    {
     "name": "stdout",
     "output_type": "stream",
     "text": [
      "tensor(592.4572)\n"
     ]
    }
   ],
   "source": [
    "print(I.shape[0]/zooms[0])"
   ]
  },
  {
   "cell_type": "code",
   "execution_count": 27,
   "id": "67509d33",
   "metadata": {},
   "outputs": [],
   "source": [
    "volume = t.zeros(576,576,5)"
   ]
  },
  {
   "cell_type": "code",
   "execution_count": 58,
   "id": "7b590c1d",
   "metadata": {},
   "outputs": [
    {
     "data": {
      "text/plain": [
       "tensor([[-5.0000, -5.0000, -5.0000,  5.0000,  5.0000,  5.0000],\n",
       "        [ 0.0000,  0.0000,  0.0000,  0.0000,  0.0000,  0.0000],\n",
       "        [ 1.0000,  1.5000,  2.0000,  1.0000,  1.5000,  2.0000]])"
      ]
     },
     "execution_count": 58,
     "metadata": {},
     "output_type": "execute_result"
    }
   ],
   "source": [
    "a = t.linspace(-5,5,2)\n",
    "b = t.linspace(0,10,1)\n",
    "c = t.linspace(1,2,3)\n",
    "a_g, b_g, c_g = t.meshgrid(a,b,c)\n",
    "t.stack((t.flatten(a_g),t.flatten(b_g), t.flatten(c_g)),dim = 0)"
   ]
  },
  {
   "cell_type": "code",
   "execution_count": 68,
   "id": "66277d3d",
   "metadata": {},
   "outputs": [],
   "source": [
    "def create_voxel_mesh(geometry,n_voxels):\n",
    "    \"\"\"Function to create the voxel mesh. i.e. the target volume X\n",
    "    Inputs: \n",
    "    geometry: [[x_min, x_max],[y_min, y_max],[z_min, z_max]]\n",
    "    voxels[n_x, n_y, n_z] numer of voxels in each dimension\n",
    "    \"\"\"\n",
    "    #lenths\n",
    "    [l_x,l_y,l_z] = geometry[:,0] - geometry[:,1]\n",
    "    x_lin, y_lin, z_lin = t.linspace(geometry[0,0],geometry[0,1],n_voxels[0]),  t.linspace(geometry[1,0],geometry[1,1], n_voxels[1]), t.linspace(geometry[2,0],geometry[2,1], n_voxels[2])\n",
    "    x_grid, y_grid, z_grid = t.meshgrid(x_lin, y_lin, z_lin)\n",
    "    #coordinates\n",
    "    coordinates = t.stack((t.flatten(x_grid),t.flatten(y_grid),t.flatten(z_grid)),dim = 0)\n",
    "    #1 for \"voxel structure\" 0 for initial intensity value\n",
    "    add_on = t.tensor([[1],[0]]).repeat(1,coordinates.shape[1])\n",
    "    voxels = t.cat((coordinates,add_on),0)\n",
    "    return voxels\n",
    "    "
   ]
  },
  {
   "cell_type": "code",
   "execution_count": 96,
   "id": "24218408",
   "metadata": {},
   "outputs": [],
   "source": [
    "geometry = t.tensor([[0.5,10],[-0.1,10],[-5,5]])\n",
    "n_voxels = [2,1,3]"
   ]
  },
  {
   "cell_type": "code",
   "execution_count": 97,
   "id": "408edf9c",
   "metadata": {},
   "outputs": [
    {
     "data": {
      "text/plain": [
       "tensor([[ 0.5000,  0.5000,  0.5000, 10.0000, 10.0000, 10.0000],\n",
       "        [-0.1000, -0.1000, -0.1000, -0.1000, -0.1000, -0.1000],\n",
       "        [-5.0000,  0.0000,  5.0000, -5.0000,  0.0000,  5.0000],\n",
       "        [ 1.0000,  1.0000,  1.0000,  1.0000,  1.0000,  1.0000],\n",
       "        [ 0.0000,  0.0000,  0.0000,  0.0000,  0.0000,  0.0000]])"
      ]
     },
     "execution_count": 97,
     "metadata": {},
     "output_type": "execute_result"
    }
   ],
   "source": [
    "create_voxel_mesh(geometry,n_voxels)"
   ]
  },
  {
   "cell_type": "code",
   "execution_count": 363,
   "id": "1fc01c08",
   "metadata": {},
   "outputs": [
    {
     "data": {
      "text/plain": [
       "torch.Size([4, 4, 5])"
      ]
     },
     "execution_count": 363,
     "metadata": {},
     "output_type": "execute_result"
    }
   ],
   "source": [
    "I = t.rand(2,3,5)\n",
    "first_stack = stack.stack(I,t_affine,1)\n",
    "F = t.eye(4).unsqueeze(2).repeat(1,1,5)\n",
    "F.shape\n"
   ]
  },
  {
   "cell_type": "code",
   "execution_count": 364,
   "id": "8b0a09b9",
   "metadata": {},
   "outputs": [],
   "source": [
    "x_lin,y_lin,k_lin = t.linspace(0,I.shape[0]-1,I.shape[0]), t.linspace(0,I.shape[1]-1,I.shape[1]), t.linspace(0,I.shape[2]-1,I.shape[2])\n",
    "x_grid, y_grid = t.meshgrid(x_lin, y_lin)\n",
    "coordinates = t.stack((t.flatten(x_grid), t.flatten(y_grid)), dim = 0)\n",
    "add_on = t.tensor([[0],[1]]).repeat(1,coordinates.shape[1])\n",
    "pixels = t.cat((coordinates, add_on),0)\n",
    "output = t.einsum('ijk,jl->ilk',F,pixels)\n",
    "#switch order for consistency with 2d coordinates\n",
    "k_grid, x_grid, y_grid = t.meshgrid(k_lin, x_lin, y_lin)\n",
    "coordinates_3d = t.stack((t.flatten(x_grid), t.flatten(y_grid), t.flatten(k_grid)), dim = 0).int().numpy()\n",
    "values = I[coordinates_3d][None,:]\n",
    "output = output.reshape(output.shape[0],output.shape[1]*output.shape[2])\n",
    "output = t.cat((output,values),0)"
   ]
  },
  {
   "cell_type": "code",
   "execution_count": 357,
   "id": "373799e0",
   "metadata": {},
   "outputs": [
    {
     "name": "stdout",
     "output_type": "stream",
     "text": [
      "torch.Size([1, 30])\n",
      "torch.Size([4, 30])\n",
      "tensor([[0.0000, 0.0000, 0.0000, 0.0000, 0.0000, 0.0000, 0.0000, 0.0000, 0.0000,\n",
      "         0.0000, 0.0000, 0.0000, 0.0000, 0.0000, 0.0000, 1.0000, 1.0000, 1.0000,\n",
      "         1.0000, 1.0000, 1.0000, 1.0000, 1.0000, 1.0000, 1.0000, 1.0000, 1.0000,\n",
      "         1.0000, 1.0000, 1.0000],\n",
      "        [0.0000, 0.0000, 0.0000, 0.0000, 0.0000, 1.0000, 1.0000, 1.0000, 1.0000,\n",
      "         1.0000, 2.0000, 2.0000, 2.0000, 2.0000, 2.0000, 0.0000, 0.0000, 0.0000,\n",
      "         0.0000, 0.0000, 1.0000, 1.0000, 1.0000, 1.0000, 1.0000, 2.0000, 2.0000,\n",
      "         2.0000, 2.0000, 2.0000],\n",
      "        [0.0000, 0.0000, 0.0000, 0.0000, 0.0000, 0.0000, 0.0000, 0.0000, 0.0000,\n",
      "         0.0000, 0.0000, 0.0000, 0.0000, 0.0000, 0.0000, 0.0000, 0.0000, 0.0000,\n",
      "         0.0000, 0.0000, 0.0000, 0.0000, 0.0000, 0.0000, 0.0000, 0.0000, 0.0000,\n",
      "         0.0000, 0.0000, 0.0000],\n",
      "        [1.0000, 1.0000, 1.0000, 1.0000, 1.0000, 1.0000, 1.0000, 1.0000, 1.0000,\n",
      "         1.0000, 1.0000, 1.0000, 1.0000, 1.0000, 1.0000, 1.0000, 1.0000, 1.0000,\n",
      "         1.0000, 1.0000, 1.0000, 1.0000, 1.0000, 1.0000, 1.0000, 1.0000, 1.0000,\n",
      "         1.0000, 1.0000, 1.0000],\n",
      "        [0.9182, 0.5584, 0.9573, 0.9450, 0.6408, 0.0504, 0.8657, 0.8058, 0.1474,\n",
      "         0.5819, 0.8861, 0.5639, 0.3458, 0.4384, 0.9702, 0.4056, 0.4172, 0.7093,\n",
      "         0.8997, 0.4495, 0.7936, 0.5874, 0.3601, 0.5726, 0.8294, 0.3574, 0.8106,\n",
      "         0.3496, 0.3113, 0.8530]])\n"
     ]
    }
   ],
   "source": [
    "output = t.einsum('ijk,jl->ilk',F,pixels)\n",
    "\n",
    "#switch order for consistency with 2d coordinates\n",
    "k_grid, x_grid, y_grid = t.meshgrid(k_lin, x_lin, y_lin)\n",
    "coordinates_3d = t.stack((t.flatten(x_grid), t.flatten(y_grid), t.flatten(k_grid)), dim = 0).int().numpy()\n",
    "values = I[coordinates_3d][None,:]\n",
    "print(values.shape)\n",
    "\n",
    "output = output.reshape(output.shape[0],output.shape[1]*output.shape[2])\n",
    "print(output.shape)\n",
    "output = t.cat((output,values),0)\n",
    "print(output)"
   ]
  },
  {
   "cell_type": "code",
   "execution_count": 365,
   "id": "ec6b7245",
   "metadata": {},
   "outputs": [
    {
     "name": "stdout",
     "output_type": "stream",
     "text": [
      "[[0 0 0 1 1 1 0 0 0 1 1 1 0 0 0 1 1 1 0 0 0 1 1 1 0 0 0 1 1 1]\n",
      " [0 1 2 0 1 2 0 1 2 0 1 2 0 1 2 0 1 2 0 1 2 0 1 2 0 1 2 0 1 2]\n",
      " [0 0 0 0 0 0 1 1 1 1 1 1 2 2 2 2 2 2 3 3 3 3 3 3 4 4 4 4 4 4]]\n",
      "tensor([[0., 0., 0., 1., 1., 1.],\n",
      "        [0., 1., 2., 0., 1., 2.]])\n"
     ]
    }
   ],
   "source": [
    "print(coordinates_3d)\n",
    "print(coordinates)"
   ]
  },
  {
   "cell_type": "code",
   "execution_count": 366,
   "id": "6d10568f",
   "metadata": {},
   "outputs": [
    {
     "data": {
      "text/plain": [
       "tensor([[[0.0556, 0.8104, 0.8539, 0.6413, 0.3888],\n",
       "         [0.4669, 0.0687, 0.8441, 0.8214, 0.1583],\n",
       "         [0.6239, 0.8173, 0.5300, 0.1865, 0.1495]],\n",
       "\n",
       "        [[0.8402, 0.5287, 0.7594, 0.7014, 0.9397],\n",
       "         [0.5108, 0.3857, 0.8449, 0.0427, 0.8482],\n",
       "         [0.3912, 0.7829, 0.3642, 0.2466, 0.5527]]])"
      ]
     },
     "execution_count": 366,
     "metadata": {},
     "output_type": "execute_result"
    }
   ],
   "source": [
    "I"
   ]
  },
  {
   "cell_type": "code",
   "execution_count": 367,
   "id": "bfe91551",
   "metadata": {},
   "outputs": [
    {
     "data": {
      "text/plain": [
       "torch.Size([5, 30])"
      ]
     },
     "execution_count": 367,
     "metadata": {},
     "output_type": "execute_result"
    }
   ],
   "source": [
    "output.shape"
   ]
  },
  {
   "cell_type": "code",
   "execution_count": 368,
   "id": "af6de0ce",
   "metadata": {},
   "outputs": [
    {
     "data": {
      "text/plain": [
       "tensor([0.0556, 0.4669, 0.6239, 0.8402, 0.5108, 0.3912, 0.8104, 0.0687, 0.8173,\n",
       "        0.5287, 0.3857, 0.7829, 0.8539, 0.8441, 0.5300, 0.7594, 0.8449, 0.3642,\n",
       "        0.6413, 0.8214, 0.1865, 0.7014, 0.0427, 0.2466, 0.3888, 0.1583, 0.1495,\n",
       "        0.9397, 0.8482, 0.5527])"
      ]
     },
     "execution_count": 368,
     "metadata": {},
     "output_type": "execute_result"
    }
   ],
   "source": [
    "output[4,:]"
   ]
  },
  {
   "cell_type": "code",
   "execution_count": 369,
   "id": "709cfbf3",
   "metadata": {},
   "outputs": [
    {
     "data": {
      "text/plain": [
       "tensor(0.9397)"
      ]
     },
     "execution_count": 369,
     "metadata": {},
     "output_type": "execute_result"
    }
   ],
   "source": [
    "I[1,0,4]"
   ]
  },
  {
   "cell_type": "code",
   "execution_count": 370,
   "id": "3847bcd0",
   "metadata": {},
   "outputs": [
    {
     "data": {
      "text/plain": [
       "tensor(0.5108)"
      ]
     },
     "execution_count": 370,
     "metadata": {},
     "output_type": "execute_result"
    }
   ],
   "source": [
    "I[1,1,0]"
   ]
  },
  {
   "cell_type": "code",
   "execution_count": null,
   "id": "f57e83b7",
   "metadata": {},
   "outputs": [],
   "source": []
  }
 ],
 "metadata": {
  "kernelspec": {
   "display_name": "Python 3.8.8 64-bit ('base': conda)",
   "language": "python",
   "name": "python388jvsc74a57bd0df57fb2011fe0677c52ead08c38db10ec9ae0632224e1588dff526d5ca373fd3"
  },
  "language_info": {
   "codemirror_mode": {
    "name": "ipython",
    "version": 3
   },
   "file_extension": ".py",
   "mimetype": "text/x-python",
   "name": "python",
   "nbconvert_exporter": "python",
   "pygments_lexer": "ipython3",
   "version": "3.9.7"
  }
 },
 "nbformat": 4,
 "nbformat_minor": 5
}
