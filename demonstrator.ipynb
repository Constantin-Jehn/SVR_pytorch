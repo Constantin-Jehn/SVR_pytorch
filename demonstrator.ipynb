{
 "cells": [
  {
   "cell_type": "code",
   "execution_count": null,
   "id": "891d5b04",
   "metadata": {},
   "outputs": [],
   "source": [
    "import utils\n",
    "import stack\n",
    "import volume\n",
    "import sandbox\n",
    "import nibabel as nib\n",
    "import torch as t\n",
    "import os\n",
    "import numpy as np\n",
    "import open3d as o3d\n",
    "import pytorch3d as p3"
   ]
  },
  {
   "cell_type": "markdown",
   "id": "d4e2102d",
   "metadata": {},
   "source": [
    "$\\textbf{read nifti format and return image, affine and zooms as torch tensor, show slices (not in world coordinates)}$"
   ]
  },
  {
   "cell_type": "code",
   "execution_count": null,
   "id": "cb9c5890",
   "metadata": {},
   "outputs": [],
   "source": [
    "folder = \"data\"\n",
    "filename = \"iFIND00472_iFIND2_201901111210_PHILIPSJ2LF9B9_101_PIH1HR_Survey_32SENSE.s3.nii.gz\"\n",
    "t_image, t_affine, zooms = utils.nii_to_torch(folder, filename)\n",
    "utils.show_stack(t_image)"
   ]
  },
  {
   "cell_type": "markdown",
   "id": "9e7b68fd",
   "metadata": {},
   "source": [
    "$\\textbf{Create stack object from subpart of scan}$"
   ]
  },
  {
   "cell_type": "code",
   "execution_count": null,
   "id": "4e9f665a",
   "metadata": {},
   "outputs": [],
   "source": [
    "t_image_red = t_image[200:400,200:400,:]\n",
    "utils.show_stack(t_image_red)"
   ]
  },
  {
   "cell_type": "code",
   "execution_count": null,
   "id": "3c958054",
   "metadata": {},
   "outputs": [],
   "source": [
    "beta = 0.01\n",
    "first_stack = stack.stack(t_image_red,t_affine, beta)"
   ]
  },
  {
   "cell_type": "markdown",
   "id": "19277044",
   "metadata": {},
   "source": [
    "$\\textbf{define desired geometry and the number of voxels according to resolution}$"
   ]
  },
  {
   "cell_type": "code",
   "execution_count": null,
   "id": "2df2f6cf",
   "metadata": {},
   "outputs": [],
   "source": [
    "resolution = 0.5\n",
    "geometry = first_stack.corners()\n",
    "n_voxels = t.ceil(t.multiply(t.tensor(t_image_red.shape),resolution))\n",
    "n_voxels[n_voxels < t.min(t.tensor(t_image_red.shape))] = t.min(t.tensor(t_image_red.shape)).item()\n",
    "n_voxels = n_voxels.int()"
   ]
  },
  {
   "cell_type": "markdown",
   "id": "7f61c58e",
   "metadata": {},
   "source": [
    "$\\textbf{create target volume and run registration}$"
   ]
  },
  {
   "cell_type": "code",
   "execution_count": null,
   "id": "0cb462c3",
   "metadata": {},
   "outputs": [],
   "source": [
    "target = volume.volume()\n",
    "target.from_stack(geometry,n_voxels)\n",
    "target.reconstruct_stack(first_stack)"
   ]
  },
  {
   "cell_type": "markdown",
   "id": "c528e0f4",
   "metadata": {},
   "source": [
    "$\\textbf{save the result as nifti and save to folder}$"
   ]
  },
  {
   "cell_type": "code",
   "execution_count": null,
   "id": "d18cf314",
   "metadata": {},
   "outputs": [],
   "source": [
    "nft_img = utils.torch_to_nii(target.X, target.affine)\n",
    "folder = 'test_reconstruction'\n",
    "filename = 's1_smaller_jupygter'\n",
    "utils.save_target(target,folder, filename)\n",
    "utils.save_nifti(nft_img,folder, filename)"
   ]
  },
  {
   "cell_type": "markdown",
   "id": "43613c07",
   "metadata": {},
   "source": [
    "$\\textbf{Sampling with 45° around z-Axis of the slices}$"
   ]
  },
  {
   "cell_type": "code",
   "execution_count": null,
   "id": "f03ed1fc",
   "metadata": {},
   "outputs": [],
   "source": [
    "filename = \"s1_cropped.nii\"\n",
    "folder = \"data\"\n",
    "t_image, t_affine, zooms = utils.nii_to_torch(folder, filename)"
   ]
  },
  {
   "cell_type": "code",
   "execution_count": null,
   "id": "e4e64267",
   "metadata": {},
   "outputs": [],
   "source": [
    "rotations = t.tensor([0,0,np.pi/4])\n",
    "I_x, I_y, I_z = 120, 110, 6\n",
    "I = t.zeros(I_x, I_y, I_z)\n",
    "t_affine = t.eye(4)\n",
    "t_affine = utils.create_T(rotations, t.zeros(3))\n",
    "sampling_stack = stack.stack(I,t_affine)"
   ]
  },
  {
   "cell_type": "code",
   "execution_count": null,
   "id": "90280a9c",
   "metadata": {},
   "outputs": [],
   "source": [
    "folder = 'test_reconstruction'\n",
    "filename = 's1_cropped_complete'\n",
    "target_loaded = utils.open_target(folder, filename)"
   ]
  },
  {
   "cell_type": "code",
   "execution_count": null,
   "id": "d1ffb84f",
   "metadata": {},
   "outputs": [],
   "source": [
    "sampling_stack.sample_from_volume(target_loaded)\n",
    "#sampling_2d(sampling_stack, target_loaded)\n",
    "utils.show_stack(sampling_stack.I)"
   ]
  },
  {
   "cell_type": "markdown",
   "id": "d2d3cc88",
   "metadata": {},
   "source": [
    "$\\textbf{Sampling with 90° around x-Axis of the slices}$"
   ]
  },
  {
   "cell_type": "code",
   "execution_count": null,
   "id": "bd1606ba",
   "metadata": {},
   "outputs": [],
   "source": [
    "rotations = t.tensor([np.pi/2,0,0])\n",
    "I_x, I_y, I_z = 80, 90, 6\n",
    "sandbox.basic_2d_sampling(rotations, I_x, I_y, I_z)"
   ]
  }
 ],
 "metadata": {
  "kernelspec": {
   "display_name": "Python 3.8.8 64-bit ('base': conda)",
   "language": "python",
   "name": "python388jvsc74a57bd0df57fb2011fe0677c52ead08c38db10ec9ae0632224e1588dff526d5ca373fd3"
  },
  "language_info": {
   "codemirror_mode": {
    "name": "ipython",
    "version": 3
   },
   "file_extension": ".py",
   "mimetype": "text/x-python",
   "name": "python",
   "nbconvert_exporter": "python",
   "pygments_lexer": "ipython3",
   "version": "3.9.7"
  }
 },
 "nbformat": 4,
 "nbformat_minor": 5
}
